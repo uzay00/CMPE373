{
 "cells": [
  {
   "cell_type": "code",
   "execution_count": 1,
   "metadata": {},
   "outputs": [
    {
     "name": "stdout",
     "output_type": "stream",
     "text": [
      "NetworkX version: 2.4\n"
     ]
    }
   ],
   "source": [
    "import warnings\n",
    "warnings.filterwarnings('ignore')\n",
    "\n",
    "import numpy as np\n",
    "import pandas as pd\n",
    "import seaborn as sns\n",
    "sns.set()\n",
    "\n",
    "import networkx as nx\n",
    "import matplotlib.pyplot as plt\n",
    "%matplotlib inline\n",
    "print('NetworkX version: {}'.format(nx.__version__))"
   ]
  },
  {
   "cell_type": "code",
   "execution_count": 2,
   "metadata": {
    "collapsed": true
   },
   "outputs": [],
   "source": [
    "G=nx.DiGraph()\n",
    "G.add_node('A', role = 'trader')\n",
    "\n",
    "G.add_edge('A','B', weight = 6 ) # Directed edge From A to B\n",
    "G.add_edge('B','C', weight = 13)"
   ]
  },
  {
   "cell_type": "code",
   "execution_count": 3,
   "metadata": {},
   "outputs": [
    {
     "data": {
      "image/png": "[encoded data removed]",
      "text/plain": [
       "<matplotlib.figure.Figure at 0x106eb86d8>"
      ]
     },
     "metadata": {},
     "output_type": "display_data"
    }
   ],
   "source": [
    "nx.draw(G, node_size=500, node_color='pink', with_labels=True)"
   ]
  },
  {
   "cell_type": "code",
   "execution_count": 4,
   "metadata": {},
   "outputs": [
    {
     "data": {
      "text/plain": [
       "OutEdgeView([('A', 'B'), ('B', 'C')])"
      ]
     },
     "execution_count": 4,
     "metadata": {},
     "output_type": "execute_result"
    }
   ],
   "source": [
    "G.edges"
   ]
  },
  {
   "cell_type": "code",
   "execution_count": 5,
   "metadata": {},
   "outputs": [
    {
     "data": {
      "text/plain": [
       "OutEdgeDataView([('A', 'B', {'weight': 6}), ('B', 'C', {'weight': 13})])"
      ]
     },
     "execution_count": 5,
     "metadata": {},
     "output_type": "execute_result"
    }
   ],
   "source": [
    "G.edges(data= True) #list of all edges with attributes"
   ]
  },
  {
   "cell_type": "code",
   "execution_count": 6,
   "metadata": {},
   "outputs": [
    {
     "data": {
      "text/plain": [
       "NodeView(('A', 'B', 'C'))"
      ]
     },
     "execution_count": 6,
     "metadata": {},
     "output_type": "execute_result"
    }
   ],
   "source": [
    "G.nodes()"
   ]
  },
  {
   "cell_type": "code",
   "execution_count": 7,
   "metadata": {},
   "outputs": [
    {
     "data": {
      "text/plain": [
       "NodeDataView({'A': {'role': 'trader'}, 'B': {}, 'C': {}})"
      ]
     },
     "execution_count": 7,
     "metadata": {},
     "output_type": "execute_result"
    }
   ],
   "source": [
    "G.nodes(data= True)"
   ]
  },
  {
   "cell_type": "code",
   "execution_count": 8,
   "metadata": {},
   "outputs": [
    {
     "data": {
      "text/plain": [
       "{'role': 'trader'}"
      ]
     },
     "execution_count": 8,
     "metadata": {},
     "output_type": "execute_result"
    }
   ],
   "source": [
    "G.nodes['A']"
   ]
  },
  {
   "cell_type": "code",
   "execution_count": 9,
   "metadata": {},
   "outputs": [
    {
     "data": {
      "text/plain": [
       "{'weight': 6}"
      ]
     },
     "execution_count": 9,
     "metadata": {},
     "output_type": "execute_result"
    }
   ],
   "source": [
    "G.edges[('A', 'B')]"
   ]
  },
  {
   "cell_type": "markdown",
   "metadata": {},
   "source": [
    "![](simple_network.JPG)"
   ]
  },
  {
   "cell_type": "code",
   "execution_count": 10,
   "metadata": {},
   "outputs": [
    {
     "data": {
      "image/png": "[encoded data removed]",
      "text/plain": [
       "<matplotlib.figure.Figure at 0x128e66d68>"
      ]
     },
     "metadata": {},
     "output_type": "display_data"
    }
   ],
   "source": [
    "G=nx.DiGraph()\n",
    "G.add_node('A', role = 'source')\n",
    "G.add_node('F', role = 'target')\n",
    "\n",
    "G.add_edge('A','B', weight = 1 ) # Directed edge From A to B\n",
    "G.add_edge('A','C', weight = 7)\n",
    "G.add_edge('B','D', weight = 2)\n",
    "G.add_edge('C','D', weight = 8)\n",
    "G.add_edge('D','E', weight = 9)\n",
    "G.add_edge('C','F', weight = 15)\n",
    "G.add_edge('D','F', weight = 1)\n",
    "G.add_edge('E','F', weight = 3)\n",
    "\n",
    "nx.draw(G, node_size=500, \n",
    "        node_color='pink', \n",
    "        with_labels=True)"
   ]
  },
  {
   "cell_type": "code",
   "execution_count": 11,
   "metadata": {},
   "outputs": [
    {
     "data": {
      "text/plain": [
       "['A', 'C', 'F']"
      ]
     },
     "execution_count": 11,
     "metadata": {},
     "output_type": "execute_result"
    }
   ],
   "source": [
    "nx.shortest_path(G,'A', 'F')"
   ]
  },
  {
   "cell_type": "code",
   "execution_count": 12,
   "metadata": {},
   "outputs": [
    {
     "data": {
      "text/plain": [
       "['A', 'B', 'D', 'F']"
      ]
     },
     "execution_count": 12,
     "metadata": {},
     "output_type": "execute_result"
    }
   ],
   "source": [
    "nx.shortest_path(G,'A', 'F', 'weight')"
   ]
  },
  {
   "cell_type": "code",
   "execution_count": 13,
   "metadata": {},
   "outputs": [
    {
     "data": {
      "text/plain": [
       "[('A', 'B'), ('B', 'D'), ('D', 'F')]"
      ]
     },
     "execution_count": 13,
     "metadata": {},
     "output_type": "execute_result"
    }
   ],
   "source": [
    "sp = nx.shortest_path(G,'A', 'F', 'weight')\n",
    "list(zip(sp[:-1],sp[1:]))"
   ]
  },
  {
   "cell_type": "code",
   "execution_count": 14,
   "metadata": {},
   "outputs": [
    {
     "data": {
      "text/plain": [
       "[<matplotlib.patches.FancyArrowPatch at 0x128fe3ac8>,\n",
       " <matplotlib.patches.FancyArrowPatch at 0x128fe3dd8>]"
      ]
     },
     "execution_count": 14,
     "metadata": {},
     "output_type": "execute_result"
    },
    {
     "data": {
      "image/png": "[encoded data removed]",
      "text/plain": [
       "<matplotlib.figure.Figure at 0x128e764e0>"
      ]
     },
     "metadata": {},
     "output_type": "display_data"
    }
   ],
   "source": [
    "pos_fr = nx.fruchterman_reingold_layout(G)\n",
    "pos_fr\n",
    "\n",
    "nx.draw(G, pos=pos_fr, node_size=500, \n",
    "        alpha = 0.7, node_color='pink', \n",
    "        with_labels=True)\n",
    "\n",
    "# Plot edges \n",
    "nx.draw_networkx_edges(G, pos=pos_fr, edgelist=[('A', 'B'), ('B', 'D')], width=3, edge_color='red')"
   ]
  },
  {
   "cell_type": "code",
   "execution_count": 15,
   "metadata": {},
   "outputs": [
    {
     "data": {
      "text/plain": [
       "{('A', 'B'): 1,\n",
       " ('A', 'C'): 7,\n",
       " ('B', 'D'): 2,\n",
       " ('C', 'D'): 8,\n",
       " ('C', 'F'): 15,\n",
       " ('D', 'E'): 9,\n",
       " ('D', 'F'): 1,\n",
       " ('E', 'F'): 3}"
      ]
     },
     "execution_count": 15,
     "metadata": {},
     "output_type": "execute_result"
    }
   ],
   "source": [
    "labels = nx.get_edge_attributes(G,'weight')\n",
    "labels"
   ]
  },
  {
   "cell_type": "code",
   "execution_count": 16,
   "metadata": {},
   "outputs": [
    {
     "data": {
      "image/png": "[encoded data removed]",
      "text/plain": [
       "<matplotlib.figure.Figure at 0x1290042b0>"
      ]
     },
     "metadata": {},
     "output_type": "display_data"
    }
   ],
   "source": [
    "pos_fr = nx.fruchterman_reingold_layout(G)\n",
    "pos_fr\n",
    "\n",
    "nx.draw(G, pos=pos_fr, node_size=500, \n",
    "        alpha = 0.7, node_color='pink', \n",
    "        with_labels=True)\n",
    "\n",
    "# Plot edges \n",
    "nx.draw_networkx_edges(G, pos=pos_fr, edgelist=list(zip(sp[:-1],sp[1:])), width=3, edge_color='red')\n",
    "\n",
    "# Plot edge labels\n",
    "nx.draw_networkx_edge_labels(G, pos=pos_fr, edge_labels=nx.get_edge_attributes(G,'weight'))\n",
    "plt.tight_layout()"
   ]
  },
  {
   "cell_type": "code",
   "execution_count": 17,
   "metadata": {},
   "outputs": [
    {
     "data": {
      "text/plain": [
       "{'A': array([-0.3002097 ,  0.45179994]),\n",
       " 'B': array([0.15744571, 0.87212921]),\n",
       " 'C': array([-0.17628822,  0.04683025]),\n",
       " 'D': array([ 0.13260449, -0.18259566]),\n",
       " 'E': array([ 0.35451272, -0.18816374]),\n",
       " 'F': array([-0.168065, -1.      ])}"
      ]
     },
     "execution_count": 17,
     "metadata": {},
     "output_type": "execute_result"
    }
   ],
   "source": [
    "pos_fr = nx.fruchterman_reingold_layout(G)\n",
    "pos_fr"
   ]
  },
  {
   "cell_type": "markdown",
   "metadata": {},
   "source": [
    "# Ant Colony"
   ]
  },
  {
   "cell_type": "code",
   "execution_count": 18,
   "metadata": {
    "collapsed": true
   },
   "outputs": [],
   "source": [
    "class ant():\n",
    "    def __init__(self, env, phe, \n",
    "                 start = 'A', end = 'E',\n",
    "                alpha = 1, beta = 1):\n",
    "        \n",
    "        self.env, self.phe  = env, phe\n",
    "        \n",
    "        self.alpha, self.beta = alpha, beta\n",
    "        self.cities = list(self.env.columns)\n",
    "        self.current_city = start\n",
    "        self.target_city = end\n",
    "        \n",
    "        self.route = [self.current_city]\n",
    "        \n",
    "        self.possible_cities = self.cities.copy()\n",
    "        self.possible_cities.remove(self.current_city)\n",
    "    \n",
    "    def move(self):\n",
    "        \"\"\"\n",
    "        Move one step\n",
    "        \"\"\"\n",
    "        if self.current_city == self.target_city:\n",
    "            return\n",
    "        \n",
    "        # non-zero distances\n",
    "        self.possible_cities = self.env.loc[self.current_city] != 0\n",
    "        \n",
    "        distances = self.env.loc[self.current_city][self.possible_cities]\n",
    "        pheremons = self.phe.loc[self.current_city][self.possible_cities]\n",
    "        \n",
    "        preferences = pheremons**self.alpha/distances**self.beta\n",
    "        probabilities = preferences/preferences.sum()\n",
    "        #print(probabilities)\n",
    "        \n",
    "        self.current_city = np.random.choice(a = probabilities.index, \n",
    "                                             size=1, \n",
    "                                             p = probabilities.values)[0]\n",
    "        \n",
    "        self.route.append(self.current_city) \n",
    "        #self.possible_cities.remove(self.current_city)\n",
    "        \n",
    "    def go(self):\n",
    "        \"\"\"\n",
    "        Bulid route/path\n",
    "        \"\"\"\n",
    "        for i in range(len(self.cities)):\n",
    "            self.move()\n",
    "\n",
    "    def deposit(self):\n",
    "        return self.route\n",
    "        \n",
    "    def cost(self):\n",
    "        result = 0\n",
    "        for i in range(len(self.route)-1):\n",
    "            result += self.env.loc[self.route[i], self.route[i+1]]\n",
    "        return result"
   ]
  },
  {
   "cell_type": "code",
   "execution_count": 19,
   "metadata": {
    "collapsed": true
   },
   "outputs": [],
   "source": [
    "class antcolony():\n",
    "    def __init__(self, G):\n",
    "        \n",
    "        self.cities = G.nodes()\n",
    "        self.true_path = nx.shortest_path(G,'A', 'F', 'weight')\n",
    "        self.start, self.end = self.true_path[0], self.true_path[-1]\n",
    "        \n",
    "        self.env, self.phe = create_environment(G)\n",
    "        \n",
    "        self.true_path_ratio = []\n",
    "\n",
    "    def evaporation(self, decay = 0.05):\n",
    "        # Evaporation of Pheromon\n",
    "        self.phe = self.phe * (1 - decay)\n",
    "        \n",
    "    def deposit(self, route, delta = 1):\n",
    "        for i,j in zip(route[:-1], route[1:]):\n",
    "            self.phe.loc[i, j] +=  delta/self.env.loc[i, j]\n",
    "        \n",
    "    def run(self, K = 10, time = 20):\n",
    "        # in each time step\n",
    "        for t in range(time):\n",
    "            # K ants exist in the colony\n",
    "            self.colony = [ant(env = self.env, phe = self.phe, \n",
    "                          start= self.start,end =  self.end) \n",
    "                      for k in range(K)]\n",
    "\n",
    "            # distributed and paralel moves of K ants\n",
    "            for k in range(K):\n",
    "                self.colony[k].go()   \n",
    "\n",
    "            # after independent moves, ants deposit pheremon\n",
    "            for k in range(K):\n",
    "                path = self.colony[k].deposit()\n",
    "                self.deposit(route = path)\n",
    "                \n",
    "            self.evaporation()\n",
    "            \n",
    "            self.true_path_ratio.append(np.mean([a.route == self.true_path for a in self.colony]))"
   ]
  },
  {
   "cell_type": "code",
   "execution_count": 20,
   "metadata": {},
   "outputs": [
    {
     "data": {
      "text/plain": [
       "matrix([[ 0.,  0.,  1.,  7.,  0.,  0.],\n",
       "        [ 0.,  0.,  0.,  0.,  0.,  0.],\n",
       "        [ 0.,  0.,  0.,  0.,  2.,  0.],\n",
       "        [ 0., 15.,  0.,  0.,  8.,  0.],\n",
       "        [ 0.,  1.,  0.,  0.,  0.,  9.],\n",
       "        [ 0.,  3.,  0.,  0.,  0.,  0.]])"
      ]
     },
     "execution_count": 20,
     "metadata": {},
     "output_type": "execute_result"
    }
   ],
   "source": [
    "data = nx.to_numpy_matrix(G)\n",
    "data"
   ]
  },
  {
   "cell_type": "code",
   "execution_count": 21,
   "metadata": {},
   "outputs": [
    {
     "data": {
      "text/plain": [
       "NodeView(('A', 'F', 'B', 'C', 'D', 'E'))"
      ]
     },
     "execution_count": 21,
     "metadata": {},
     "output_type": "execute_result"
    }
   ],
   "source": [
    "cities = G.nodes()\n",
    "cities"
   ]
  },
  {
   "cell_type": "code",
   "execution_count": 22,
   "metadata": {
    "collapsed": true
   },
   "outputs": [],
   "source": [
    "import pandas as pd\n",
    "env = pd.DataFrame(data=data, columns=cities, index = cities)\n",
    "phe = env.copy() *0.01"
   ]
  },
  {
   "cell_type": "code",
   "execution_count": 23,
   "metadata": {},
   "outputs": [
    {
     "data": {
      "text/html": [
       "<div>\n",
       "<style scoped>\n",
       "    .dataframe tbody tr th:only-of-type {\n",
       "        vertical-align: middle;\n",
       "    }\n",
       "\n",
       "    .dataframe tbody tr th {\n",
       "        vertical-align: top;\n",
       "    }\n",
       "\n",
       "    .dataframe thead th {\n",
       "        text-align: right;\n",
       "    }\n",
       "</style>\n",
       "<table border=\"1\" class=\"dataframe\">\n",
       "  <thead>\n",
       "    <tr style=\"text-align: right;\">\n",
       "      <th></th>\n",
       "      <th>A</th>\n",
       "      <th>F</th>\n",
       "      <th>B</th>\n",
       "      <th>C</th>\n",
       "      <th>D</th>\n",
       "      <th>E</th>\n",
       "    </tr>\n",
       "  </thead>\n",
       "  <tbody>\n",
       "    <tr>\n",
       "      <th>A</th>\n",
       "      <td>0.0</td>\n",
       "      <td>0.0</td>\n",
       "      <td>1.0</td>\n",
       "      <td>7.0</td>\n",
       "      <td>0.0</td>\n",
       "      <td>0.0</td>\n",
       "    </tr>\n",
       "    <tr>\n",
       "      <th>F</th>\n",
       "      <td>0.0</td>\n",
       "      <td>0.0</td>\n",
       "      <td>0.0</td>\n",
       "      <td>0.0</td>\n",
       "      <td>0.0</td>\n",
       "      <td>0.0</td>\n",
       "    </tr>\n",
       "    <tr>\n",
       "      <th>B</th>\n",
       "      <td>0.0</td>\n",
       "      <td>0.0</td>\n",
       "      <td>0.0</td>\n",
       "      <td>0.0</td>\n",
       "      <td>2.0</td>\n",
       "      <td>0.0</td>\n",
       "    </tr>\n",
       "    <tr>\n",
       "      <th>C</th>\n",
       "      <td>0.0</td>\n",
       "      <td>15.0</td>\n",
       "      <td>0.0</td>\n",
       "      <td>0.0</td>\n",
       "      <td>8.0</td>\n",
       "      <td>0.0</td>\n",
       "    </tr>\n",
       "    <tr>\n",
       "      <th>D</th>\n",
       "      <td>0.0</td>\n",
       "      <td>1.0</td>\n",
       "      <td>0.0</td>\n",
       "      <td>0.0</td>\n",
       "      <td>0.0</td>\n",
       "      <td>9.0</td>\n",
       "    </tr>\n",
       "    <tr>\n",
       "      <th>E</th>\n",
       "      <td>0.0</td>\n",
       "      <td>3.0</td>\n",
       "      <td>0.0</td>\n",
       "      <td>0.0</td>\n",
       "      <td>0.0</td>\n",
       "      <td>0.0</td>\n",
       "    </tr>\n",
       "  </tbody>\n",
       "</table>\n",
       "</div>"
      ],
      "text/plain": [
       "     A     F    B    C    D    E\n",
       "A  0.0   0.0  1.0  7.0  0.0  0.0\n",
       "F  0.0   0.0  0.0  0.0  0.0  0.0\n",
       "B  0.0   0.0  0.0  0.0  2.0  0.0\n",
       "C  0.0  15.0  0.0  0.0  8.0  0.0\n",
       "D  0.0   1.0  0.0  0.0  0.0  9.0\n",
       "E  0.0   3.0  0.0  0.0  0.0  0.0"
      ]
     },
     "execution_count": 23,
     "metadata": {},
     "output_type": "execute_result"
    }
   ],
   "source": [
    "env"
   ]
  },
  {
   "cell_type": "code",
   "execution_count": 24,
   "metadata": {},
   "outputs": [
    {
     "data": {
      "text/html": [
       "<div>\n",
       "<style scoped>\n",
       "    .dataframe tbody tr th:only-of-type {\n",
       "        vertical-align: middle;\n",
       "    }\n",
       "\n",
       "    .dataframe tbody tr th {\n",
       "        vertical-align: top;\n",
       "    }\n",
       "\n",
       "    .dataframe thead th {\n",
       "        text-align: right;\n",
       "    }\n",
       "</style>\n",
       "<table border=\"1\" class=\"dataframe\">\n",
       "  <thead>\n",
       "    <tr style=\"text-align: right;\">\n",
       "      <th></th>\n",
       "      <th>A</th>\n",
       "      <th>F</th>\n",
       "      <th>B</th>\n",
       "      <th>C</th>\n",
       "      <th>D</th>\n",
       "      <th>E</th>\n",
       "    </tr>\n",
       "  </thead>\n",
       "  <tbody>\n",
       "    <tr>\n",
       "      <th>A</th>\n",
       "      <td>0.0</td>\n",
       "      <td>0.00</td>\n",
       "      <td>0.01</td>\n",
       "      <td>0.07</td>\n",
       "      <td>0.00</td>\n",
       "      <td>0.00</td>\n",
       "    </tr>\n",
       "    <tr>\n",
       "      <th>F</th>\n",
       "      <td>0.0</td>\n",
       "      <td>0.00</td>\n",
       "      <td>0.00</td>\n",
       "      <td>0.00</td>\n",
       "      <td>0.00</td>\n",
       "      <td>0.00</td>\n",
       "    </tr>\n",
       "    <tr>\n",
       "      <th>B</th>\n",
       "      <td>0.0</td>\n",
       "      <td>0.00</td>\n",
       "      <td>0.00</td>\n",
       "      <td>0.00</td>\n",
       "      <td>0.02</td>\n",
       "      <td>0.00</td>\n",
       "    </tr>\n",
       "    <tr>\n",
       "      <th>C</th>\n",
       "      <td>0.0</td>\n",
       "      <td>0.15</td>\n",
       "      <td>0.00</td>\n",
       "      <td>0.00</td>\n",
       "      <td>0.08</td>\n",
       "      <td>0.00</td>\n",
       "    </tr>\n",
       "    <tr>\n",
       "      <th>D</th>\n",
       "      <td>0.0</td>\n",
       "      <td>0.01</td>\n",
       "      <td>0.00</td>\n",
       "      <td>0.00</td>\n",
       "      <td>0.00</td>\n",
       "      <td>0.09</td>\n",
       "    </tr>\n",
       "    <tr>\n",
       "      <th>E</th>\n",
       "      <td>0.0</td>\n",
       "      <td>0.03</td>\n",
       "      <td>0.00</td>\n",
       "      <td>0.00</td>\n",
       "      <td>0.00</td>\n",
       "      <td>0.00</td>\n",
       "    </tr>\n",
       "  </tbody>\n",
       "</table>\n",
       "</div>"
      ],
      "text/plain": [
       "     A     F     B     C     D     E\n",
       "A  0.0  0.00  0.01  0.07  0.00  0.00\n",
       "F  0.0  0.00  0.00  0.00  0.00  0.00\n",
       "B  0.0  0.00  0.00  0.00  0.02  0.00\n",
       "C  0.0  0.15  0.00  0.00  0.08  0.00\n",
       "D  0.0  0.01  0.00  0.00  0.00  0.09\n",
       "E  0.0  0.03  0.00  0.00  0.00  0.00"
      ]
     },
     "execution_count": 24,
     "metadata": {},
     "output_type": "execute_result"
    }
   ],
   "source": [
    "phe"
   ]
  },
  {
   "cell_type": "code",
   "execution_count": 25,
   "metadata": {
    "collapsed": true
   },
   "outputs": [],
   "source": [
    "def create_environment(G):\n",
    "    data = nx.to_numpy_matrix(G)\n",
    "    env = pd.DataFrame(data=data, columns=cities, index = cities)\n",
    "    phe = env.copy() *0.01\n",
    "    return env, phe\n",
    "    "
   ]
  },
  {
   "cell_type": "code",
   "execution_count": 26,
   "metadata": {
    "collapsed": true
   },
   "outputs": [],
   "source": [
    "swarm = antcolony(G)\n",
    "swarm.run(K = 10, time = 10)"
   ]
  },
  {
   "cell_type": "code",
   "execution_count": 27,
   "metadata": {},
   "outputs": [
    {
     "data": {
      "image/png": "[encoded data removed]",
      "text/plain": [
       "<matplotlib.figure.Figure at 0x1293c1160>"
      ]
     },
     "metadata": {},
     "output_type": "display_data"
    }
   ],
   "source": [
    "plt.plot(swarm.true_path_ratio)\n",
    "plt.show()"
   ]
  },
  {
   "cell_type": "code",
   "execution_count": 28,
   "metadata": {},
   "outputs": [
    {
     "data": {
      "text/html": [
       "<div>\n",
       "<style scoped>\n",
       "    .dataframe tbody tr th:only-of-type {\n",
       "        vertical-align: middle;\n",
       "    }\n",
       "\n",
       "    .dataframe tbody tr th {\n",
       "        vertical-align: top;\n",
       "    }\n",
       "\n",
       "    .dataframe thead th {\n",
       "        text-align: right;\n",
       "    }\n",
       "</style>\n",
       "<table border=\"1\" class=\"dataframe\">\n",
       "  <thead>\n",
       "    <tr style=\"text-align: right;\">\n",
       "      <th></th>\n",
       "      <th>A</th>\n",
       "      <th>F</th>\n",
       "      <th>B</th>\n",
       "      <th>C</th>\n",
       "      <th>D</th>\n",
       "      <th>E</th>\n",
       "    </tr>\n",
       "  </thead>\n",
       "  <tbody>\n",
       "    <tr>\n",
       "      <th>A</th>\n",
       "      <td>0.0</td>\n",
       "      <td>0.000000</td>\n",
       "      <td>75.048495</td>\n",
       "      <td>0.212979</td>\n",
       "      <td>0.000000</td>\n",
       "      <td>0.000000</td>\n",
       "    </tr>\n",
       "    <tr>\n",
       "      <th>F</th>\n",
       "      <td>0.0</td>\n",
       "      <td>0.000000</td>\n",
       "      <td>0.000000</td>\n",
       "      <td>0.000000</td>\n",
       "      <td>0.000000</td>\n",
       "      <td>0.000000</td>\n",
       "    </tr>\n",
       "    <tr>\n",
       "      <th>B</th>\n",
       "      <td>0.0</td>\n",
       "      <td>0.000000</td>\n",
       "      <td>0.000000</td>\n",
       "      <td>0.000000</td>\n",
       "      <td>37.533229</td>\n",
       "      <td>0.000000</td>\n",
       "    </tr>\n",
       "    <tr>\n",
       "      <th>C</th>\n",
       "      <td>0.0</td>\n",
       "      <td>0.129726</td>\n",
       "      <td>0.000000</td>\n",
       "      <td>0.000000</td>\n",
       "      <td>0.122741</td>\n",
       "      <td>0.000000</td>\n",
       "    </tr>\n",
       "    <tr>\n",
       "      <th>D</th>\n",
       "      <td>0.0</td>\n",
       "      <td>73.851021</td>\n",
       "      <td>0.000000</td>\n",
       "      <td>0.000000</td>\n",
       "      <td>0.000000</td>\n",
       "      <td>0.253465</td>\n",
       "    </tr>\n",
       "    <tr>\n",
       "      <th>E</th>\n",
       "      <td>0.0</td>\n",
       "      <td>0.616699</td>\n",
       "      <td>0.000000</td>\n",
       "      <td>0.000000</td>\n",
       "      <td>0.000000</td>\n",
       "      <td>0.000000</td>\n",
       "    </tr>\n",
       "  </tbody>\n",
       "</table>\n",
       "</div>"
      ],
      "text/plain": [
       "     A          F          B         C          D         E\n",
       "A  0.0   0.000000  75.048495  0.212979   0.000000  0.000000\n",
       "F  0.0   0.000000   0.000000  0.000000   0.000000  0.000000\n",
       "B  0.0   0.000000   0.000000  0.000000  37.533229  0.000000\n",
       "C  0.0   0.129726   0.000000  0.000000   0.122741  0.000000\n",
       "D  0.0  73.851021   0.000000  0.000000   0.000000  0.253465\n",
       "E  0.0   0.616699   0.000000  0.000000   0.000000  0.000000"
      ]
     },
     "execution_count": 28,
     "metadata": {},
     "output_type": "execute_result"
    }
   ],
   "source": [
    "swarm.phe"
   ]
  },
  {
   "cell_type": "code",
   "execution_count": 29,
   "metadata": {},
   "outputs": [
    {
     "data": {
      "image/png": "[encoded data removed]",
      "text/plain": [
       "<matplotlib.figure.Figure at 0x12939f9e8>"
      ]
     },
     "metadata": {},
     "output_type": "display_data"
    }
   ],
   "source": [
    "sns.heatmap(swarm.phe)\n",
    "plt.show()"
   ]
  },
  {
   "cell_type": "code",
   "execution_count": 30,
   "metadata": {},
   "outputs": [
    {
     "data": {
      "text/plain": [
       "[['A', 'B', 'D', 'F'],\n",
       " ['A', 'B', 'D', 'F'],\n",
       " ['A', 'B', 'D', 'F'],\n",
       " ['A', 'B', 'D', 'F'],\n",
       " ['A', 'B', 'D', 'F'],\n",
       " ['A', 'B', 'D', 'F'],\n",
       " ['A', 'B', 'D', 'F'],\n",
       " ['A', 'B', 'D', 'F'],\n",
       " ['A', 'B', 'D', 'F'],\n",
       " ['A', 'B', 'D', 'F']]"
      ]
     },
     "execution_count": 30,
     "metadata": {},
     "output_type": "execute_result"
    }
   ],
   "source": [
    "[a.route for a in swarm.colony]"
   ]
  },
  {
   "cell_type": "code",
   "execution_count": 31,
   "metadata": {
    "collapsed": true
   },
   "outputs": [],
   "source": [
    "sp = swarm.colony[0].route"
   ]
  },
  {
   "cell_type": "code",
   "execution_count": 32,
   "metadata": {},
   "outputs": [
    {
     "data": {
      "text/plain": [
       "['A', 'B', 'D', 'F']"
      ]
     },
     "execution_count": 32,
     "metadata": {},
     "output_type": "execute_result"
    }
   ],
   "source": [
    "sp"
   ]
  },
  {
   "cell_type": "code",
   "execution_count": 33,
   "metadata": {},
   "outputs": [
    {
     "data": {
      "image/png": "[encoded data removed]",
      "text/plain": [
       "<matplotlib.figure.Figure at 0x12939f3c8>"
      ]
     },
     "metadata": {},
     "output_type": "display_data"
    }
   ],
   "source": [
    "pos_fr = nx.fruchterman_reingold_layout(G)\n",
    "pos_fr\n",
    "\n",
    "nx.draw(G, pos=pos_fr, node_size=500, \n",
    "        alpha = 0.7, node_color='pink', \n",
    "        with_labels=True)\n",
    "\n",
    "# Plot edges \n",
    "nx.draw_networkx_edges(G, pos=pos_fr, edgelist=list(zip(sp[:-1],sp[1:])), width=3, edge_color='red')\n",
    "\n",
    "# Plot edge labels\n",
    "nx.draw_networkx_edge_labels(G, pos=pos_fr, edge_labels=nx.get_edge_attributes(G,'weight'))\n",
    "plt.tight_layout()"
   ]
  },
  {
   "cell_type": "code",
   "execution_count": null,
   "metadata": {
    "collapsed": true
   },
   "outputs": [],
   "source": []
  }
 ],
 "metadata": {
  "kernelspec": {
   "display_name": "Python 3",
   "language": "python",
   "name": "python3"
  },
  "language_info": {
   "codemirror_mode": {
    "name": "ipython",
    "version": 3
   },
   "file_extension": ".py",
   "mimetype": "text/x-python",
   "name": "python",
   "nbconvert_exporter": "python",
   "pygments_lexer": "ipython3",
   "version": "3.6.1"
  }
 },
 "nbformat": 4,
 "nbformat_minor": 2
}
