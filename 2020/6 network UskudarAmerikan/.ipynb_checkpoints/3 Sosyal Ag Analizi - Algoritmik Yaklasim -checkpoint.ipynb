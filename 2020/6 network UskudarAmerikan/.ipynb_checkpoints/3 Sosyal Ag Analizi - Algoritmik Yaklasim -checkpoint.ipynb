{
 "cells": [
  {
   "cell_type": "markdown",
   "metadata": {},
   "source": [
    "# Sosyal Ag Analizi III - Algoritmik Yaklasim \n",
    "\n",
    "Su sorulara cevap vermek istiyoruz\n",
    "\n",
    " - Networkte bir mesajin/virusun yayilmasi ne kadar surer?\n",
    " - A'dan B'ye en kisa yol nedir?\n",
    " \n",
    "## Breadth First Search Algoritmasi\n",
    " \n",
    "<video controls src=\"https://algs4.cs.princeton.edu/lectures/41DemoBreadthFirstSearch.mov\" />"
   ]
  },
  {
   "cell_type": "code",
   "execution_count": 1,
   "metadata": {},
   "outputs": [],
   "source": [
    "import warnings\n",
    "warnings.filterwarnings('ignore')\n",
    "\n",
    "import networkx as nx\n",
    "import matplotlib.pyplot as plt\n",
    "%matplotlib inline"
   ]
  },
  {
   "cell_type": "code",
   "execution_count": 24,
   "metadata": {},
   "outputs": [
    {
     "data": {
      "image/png": "[encoded data removed]",
      "text/plain": [
       "<matplotlib.figure.Figure at 0x151a8ba278>"
      ]
     },
     "metadata": {},
     "output_type": "display_data"
    }
   ],
   "source": [
    "G = nx.Graph() # empty graph\n",
    "G.add_edge(\"Leyla\",\"Mecnun\")\n",
    "G.add_edge(\"Juliet\",\"Romeo\")\n",
    "G.add_edge(\"Uzay\",\"Mecnun\")\n",
    "G.add_edge(\"Uzay\",\"Romeo\")\n",
    "G.add_edge(\"Romeo\",\"Mecnun\")\n",
    "\n",
    "nx.draw(G, node_size=1000, node_color='lightblue', with_labels=True)"
   ]
  },
  {
   "cell_type": "code",
   "execution_count": 27,
   "metadata": {},
   "outputs": [
    {
     "name": "stdout",
     "output_type": "stream",
     "text": [
      "Name: \n",
      "Type: Graph\n",
      "Number of nodes: 5\n",
      "Number of edges: 5\n",
      "Average degree:   2.0000\n"
     ]
    }
   ],
   "source": [
    "print(nx.info(G))"
   ]
  },
  {
   "cell_type": "code",
   "execution_count": 92,
   "metadata": {},
   "outputs": [],
   "source": [
    "from queue import *\n",
    "\n",
    "def BFS(bas, son, G):\n",
    "    goruldu = set()\n",
    "    nerden_geldim = dict()\n",
    "    kuyruk = Queue()\n",
    "    kuyruk.put(bas)\n",
    "    \n",
    "    while not kuyruk.empty():\n",
    "        orta = kuyruk.get()\n",
    "        goruldu.add(orta)\n",
    "        komsular = list(G.neighbors(orta))\n",
    "        \n",
    "        if son in komsular:\n",
    "            return nerden_geldim\n",
    "        else: \n",
    "            for n in komsular:\n",
    "                if n not in goruldu:\n",
    "                    kuyruk.put(n)   \n",
    "                    nerden_geldim[n] = orta\n",
    "    return nerden_geldim"
   ]
  },
  {
   "cell_type": "code",
   "execution_count": 73,
   "metadata": {},
   "outputs": [],
   "source": [
    "bas, son = 'Uzay', 'Juliet'\n",
    "goruldu = set()\n",
    "kuyruk = Queue()\n",
    "kuyruk.put(bas)"
   ]
  },
  {
   "cell_type": "code",
   "execution_count": 85,
   "metadata": {},
   "outputs": [],
   "source": [
    "not kuyruk.empty()"
   ]
  },
  {
   "cell_type": "code",
   "execution_count": 75,
   "metadata": {},
   "outputs": [
    {
     "data": {
      "text/plain": [
       "'Uzay'"
      ]
     },
     "execution_count": 75,
     "metadata": {},
     "output_type": "execute_result"
    }
   ],
   "source": [
    "orta = kuyruk.get()\n",
    "orta"
   ]
  },
  {
   "cell_type": "code",
   "execution_count": 76,
   "metadata": {},
   "outputs": [],
   "source": [
    "goruldu.add(orta)"
   ]
  },
  {
   "cell_type": "code",
   "execution_count": 77,
   "metadata": {},
   "outputs": [
    {
     "data": {
      "text/plain": [
       "{'Uzay'}"
      ]
     },
     "execution_count": 77,
     "metadata": {},
     "output_type": "execute_result"
    }
   ],
   "source": [
    "goruldu"
   ]
  },
  {
   "cell_type": "code",
   "execution_count": 78,
   "metadata": {},
   "outputs": [
    {
     "data": {
      "text/plain": [
       "['Mecnun', 'Romeo']"
      ]
     },
     "execution_count": 78,
     "metadata": {},
     "output_type": "execute_result"
    }
   ],
   "source": [
    "komsular = G.neighbors(orta) \n",
    "list(komsular)"
   ]
  },
  {
   "cell_type": "code",
   "execution_count": 79,
   "metadata": {},
   "outputs": [
    {
     "data": {
      "text/plain": [
       "[]"
      ]
     },
     "execution_count": 79,
     "metadata": {},
     "output_type": "execute_result"
    }
   ],
   "source": [
    "list(komsular)"
   ]
  },
  {
   "cell_type": "code",
   "execution_count": 80,
   "metadata": {},
   "outputs": [
    {
     "data": {
      "text/plain": [
       "[]"
      ]
     },
     "execution_count": 80,
     "metadata": {},
     "output_type": "execute_result"
    }
   ],
   "source": [
    "list(komsular)"
   ]
  },
  {
   "cell_type": "code",
   "execution_count": 81,
   "metadata": {},
   "outputs": [
    {
     "data": {
      "text/plain": [
       "['Mecnun', 'Romeo']"
      ]
     },
     "execution_count": 81,
     "metadata": {},
     "output_type": "execute_result"
    }
   ],
   "source": [
    "[n for n in list(G.neighbors(orta))]"
   ]
  },
  {
   "cell_type": "code",
   "execution_count": 91,
   "metadata": {},
   "outputs": [
    {
     "name": "stdout",
     "output_type": "stream",
     "text": [
      "orta Uzay\n",
      "komsular ['Mecnun', 'Romeo']\n",
      "orta Mecnun\n",
      "komsular ['Leyla', 'Uzay', 'Romeo']\n",
      "orta Romeo\n",
      "komsular ['Juliet', 'Uzay', 'Mecnun']\n"
     ]
    },
    {
     "data": {
      "text/plain": [
       "True"
      ]
     },
     "execution_count": 91,
     "metadata": {},
     "output_type": "execute_result"
    }
   ],
   "source": [
    "BFS('Uzay', 'Juliet', G)"
   ]
  },
  {
   "cell_type": "code",
   "execution_count": null,
   "metadata": {},
   "outputs": [],
   "source": []
  }
 ],
 "metadata": {
  "kernelspec": {
   "display_name": "Python 3",
   "language": "python",
   "name": "python3"
  },
  "language_info": {
   "codemirror_mode": {
    "name": "ipython",
    "version": 3
   },
   "file_extension": ".py",
   "mimetype": "text/x-python",
   "name": "python",
   "nbconvert_exporter": "python",
   "pygments_lexer": "ipython3",
   "version": "3.6.4"
  }
 },
 "nbformat": 4,
 "nbformat_minor": 2
}
