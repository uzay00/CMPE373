{
 "cells": [
  {
   "cell_type": "code",
   "execution_count": 1,
   "metadata": {
    "collapsed": true
   },
   "outputs": [],
   "source": [
    "import numpy as np\n",
    "import matplotlib.pyplot as plt\n",
    "plt.style.use('ggplot')\n",
    "import pandas as pd"
   ]
  },
  {
   "cell_type": "code",
   "execution_count": 10,
   "metadata": {},
   "outputs": [],
   "source": [
    "np.random.choice?"
   ]
  },
  {
   "cell_type": "code",
   "execution_count": 12,
   "metadata": {},
   "outputs": [
    {
     "data": {
      "text/plain": [
       "(0, 2)"
      ]
     },
     "execution_count": 12,
     "metadata": {},
     "output_type": "execute_result"
    }
   ],
   "source": [
    "a, b = np.random.choice(3, 2, replace=False)\n",
    "a,b"
   ]
  },
  {
   "cell_type": "code",
   "execution_count": 29,
   "metadata": {
    "collapsed": true
   },
   "outputs": [],
   "source": [
    "class person():\n",
    "    def __init__(self,  ID, infected = False):\n",
    "        self.tckimlik = ID\n",
    "        self.infected = infected\n",
    "        \n",
    "    def talk(self, other_person):\n",
    "        if other_person.infected :\n",
    "            self.infected = True\n",
    "\n",
    "class world():\n",
    "    def __init__(self, population_size):\n",
    "        self.N = population_size\n",
    "        self.population = [person(ID = i, infected = False) for i in range(self.N)]\n",
    "      \n",
    "    def getInfectedSize(self):\n",
    "        return np.sum([man.infected for man in self.population])\n",
    "        \n",
    "        \n",
    "    def run(self,  time = 100):\n",
    "        poor_guy = self.population[0]\n",
    "        poor_guy.infected = True\n",
    "        \n",
    "        contaigon = []\n",
    "        for i in range(time):\n",
    "            a, b = np.random.choice(self.N, 2, replace=False)\n",
    "            A, B = self.population[a], self.population[b]\n",
    "            A.talk(B)\n",
    "            B.talk(A)\n",
    "            contaigon.append(self.getInfectedSize())\n",
    "            \n",
    "        return contaigon\n",
    "            \n",
    "            \n",
    "            \n",
    "        \n",
    "        "
   ]
  },
  {
   "cell_type": "code",
   "execution_count": 34,
   "metadata": {
    "collapsed": true
   },
   "outputs": [],
   "source": [
    "cruel_world = world(population_size = 40)"
   ]
  },
  {
   "cell_type": "code",
   "execution_count": 35,
   "metadata": {},
   "outputs": [],
   "source": [
    "contaigon = cruel_world.run(time = 200)"
   ]
  },
  {
   "cell_type": "code",
   "execution_count": 36,
   "metadata": {},
   "outputs": [
    {
     "data": {
      "image/png": "[encoded data removed]",
      "text/plain": [
       "<matplotlib.figure.Figure at 0x11c23d160>"
      ]
     },
     "metadata": {},
     "output_type": "display_data"
    }
   ],
   "source": [
    "plt.plot(contaigon)\n",
    "plt.show()"
   ]
  },
  {
   "cell_type": "code",
   "execution_count": null,
   "metadata": {
    "collapsed": true
   },
   "outputs": [],
   "source": []
  }
 ],
 "metadata": {
  "kernelspec": {
   "display_name": "Python 3",
   "language": "python",
   "name": "python3"
  },
  "language_info": {
   "codemirror_mode": {
    "name": "ipython",
    "version": 3
   },
   "file_extension": ".py",
   "mimetype": "text/x-python",
   "name": "python",
   "nbconvert_exporter": "python",
   "pygments_lexer": "ipython3",
   "version": "3.6.1"
  }
 },
 "nbformat": 4,
 "nbformat_minor": 2
}
