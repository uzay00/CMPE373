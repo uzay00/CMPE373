{
 "cells": [
  {
   "cell_type": "code",
   "execution_count": 1,
   "metadata": {
    "collapsed": true
   },
   "outputs": [],
   "source": [
    "import numpy as np\n",
    "from PIL import Image\n",
    "\n",
    "import matplotlib.pyplot as plt\n",
    "plt.style.use('ggplot')\n",
    "%matplotlib inline"
   ]
  },
  {
   "cell_type": "code",
   "execution_count": 2,
   "metadata": {},
   "outputs": [
    {
     "data": {
      "text/plain": [
       "<matplotlib.image.AxesImage at 0x11a6a70f0>"
      ]
     },
     "execution_count": 2,
     "metadata": {},
     "output_type": "execute_result"
    },
    {
     "data": {
      "image/png": "[encoded data removed]",
      "text/plain": [
       "<matplotlib.figure.Figure at 0x11863c6d8>"
      ]
     },
     "metadata": {},
     "output_type": "display_data"
    }
   ],
   "source": [
    "array = np.zeros([200, 200, 3], dtype=np.uint8)\n",
    "array[:,:100] = [255, 128, 0] #Orange left side\n",
    "array[:,100:] = [0, 0, 255]   #Blue right side\n",
    "\n",
    "plt.imshow(array)"
   ]
  },
  {
   "cell_type": "code",
   "execution_count": 3,
   "metadata": {},
   "outputs": [
    {
     "data": {
      "text/plain": [
       "(200, 200, 3)"
      ]
     },
     "execution_count": 3,
     "metadata": {},
     "output_type": "execute_result"
    }
   ],
   "source": [
    "array.shape"
   ]
  },
  {
   "cell_type": "code",
   "execution_count": 4,
   "metadata": {},
   "outputs": [
    {
     "data": {
      "text/plain": [
       "array([255, 128,   0], dtype=uint8)"
      ]
     },
     "execution_count": 4,
     "metadata": {},
     "output_type": "execute_result"
    }
   ],
   "source": [
    "array[0, 0]"
   ]
  },
  {
   "cell_type": "code",
   "execution_count": 5,
   "metadata": {
    "collapsed": true
   },
   "outputs": [],
   "source": [
    "class agent():\n",
    "    def __init__(self, x1 = 0, x2 = 0):\n",
    "        self.x1, self.x2 = x1, x2\n",
    "        self.RGB = np.random.choice(255, 3)\n",
    "        \n",
    "    def getCoordinates(self):\n",
    "        return self.x1*10, 10+self.x1*10, self.x2*10, 10+self.x2*10\n",
    "    \n",
    "    def getNeighbors(self):\n",
    "        neighbors = []\n",
    "        for n1 in [self.x1 - 1, self.x1, self.x1 + 1]:\n",
    "            for n2 in [self.x2 - 1, self.x2, self.x2 + 1]:\n",
    "                if n1 >= 0 and n2 >= 0:\n",
    "                    neighbors.append((n1,n2))\n",
    "        neighbors.remove((self.x1, self.x2))\n",
    "        return neighbors"
   ]
  },
  {
   "cell_type": "code",
   "execution_count": 6,
   "metadata": {},
   "outputs": [
    {
     "data": {
      "text/plain": [
       "array([221, 245, 189])"
      ]
     },
     "execution_count": 6,
     "metadata": {},
     "output_type": "execute_result"
    }
   ],
   "source": [
    "uzay = agent(1, 1)\n",
    "uzay.RGB"
   ]
  },
  {
   "cell_type": "code",
   "execution_count": 7,
   "metadata": {},
   "outputs": [
    {
     "data": {
      "text/plain": [
       "[(0, 0), (0, 1), (0, 2), (1, 0), (1, 2), (2, 0), (2, 1), (2, 2)]"
      ]
     },
     "execution_count": 7,
     "metadata": {},
     "output_type": "execute_result"
    }
   ],
   "source": [
    "uzay.getNeighbors()"
   ]
  },
  {
   "cell_type": "code",
   "execution_count": 8,
   "metadata": {},
   "outputs": [
    {
     "data": {
      "text/plain": [
       "<matplotlib.image.AxesImage at 0x11a716048>"
      ]
     },
     "execution_count": 8,
     "metadata": {},
     "output_type": "execute_result"
    },
    {
     "data": {
      "image/png": "[encoded data removed]",
      "text/plain": [
       "<matplotlib.figure.Figure at 0x107ea1828>"
      ]
     },
     "metadata": {},
     "output_type": "display_data"
    }
   ],
   "source": [
    "a,b,c,d = uzay.getCoordinates()\n",
    "array[a:b, c:d] = uzay.RGB\n",
    "\n",
    "plt.imshow(array)"
   ]
  },
  {
   "cell_type": "code",
   "execution_count": 9,
   "metadata": {
    "collapsed": true
   },
   "outputs": [],
   "source": [
    "population = {(x1,x2): agent(x1 = x1, x2 = x2) for x1 in range(20) for x2 in range(20)}"
   ]
  },
  {
   "cell_type": "code",
   "execution_count": 10,
   "metadata": {},
   "outputs": [
    {
     "data": {
      "text/plain": [
       "<matplotlib.image.AxesImage at 0x11a80dba8>"
      ]
     },
     "execution_count": 10,
     "metadata": {},
     "output_type": "execute_result"
    },
    {
     "data": {
      "image/png": "[encoded data removed]",
      "text/plain": [
       "<matplotlib.figure.Figure at 0x11a896320>"
      ]
     },
     "metadata": {},
     "output_type": "display_data"
    }
   ],
   "source": [
    "for x1 in range(20): \n",
    "    for x2 in range(20):\n",
    "        person = population[(x1,x2)]\n",
    "        \n",
    "        a,b,c,d = person.getCoordinates()\n",
    "        array[a:b, c:d] = person.RGB\n",
    "        \n",
    "plt.imshow(array) "
   ]
  },
  {
   "cell_type": "markdown",
   "metadata": {},
   "source": [
    "# Axelrod Culture Model\n",
    "\n",
    "> The order of actions is as follows:\n",
    "1) At random, pick a site to be active, and pick one of it's neighbors\n",
    "2) With probability equal to their cultural similarity, these sites interact. The active site replaces one of the features on which they differ (if any) with the corresponding trait of the neighbor."
   ]
  },
  {
   "cell_type": "code",
   "execution_count": 11,
   "metadata": {
    "collapsed": true
   },
   "outputs": [],
   "source": [
    "class agent():\n",
    "    def __init__(self, x1 = 0, x2 = 0, x1_max = 20, x2_max =20):\n",
    "        self.x1, self.x2 = x1, x2\n",
    "        self.x1_max, self.x2_max = x1_max, x2_max\n",
    "        self.RGB = np.random.choice(255, 3)\n",
    "        \n",
    "    def getCoordinates(self):\n",
    "        return self.x1*10, 10+self.x1*10, self.x2*10, 10+self.x2*10\n",
    "    \n",
    "    def getNeighbors(self, k):\n",
    "        neighbors = []\n",
    "        for n1 in [self.x1 - 1, self.x1, self.x1 + 1]: # range(self.x1-k,self.x1+ k + 1):\n",
    "            for n2 in [self.x2 - 1, self.x2, self.x2 + 1]: # range(self.x2-k,self.x2+ k + 1):\n",
    "                if n1 >= 0 and n2 >= 0 and n1 < self.x1_max and n2 < self.x2_max:\n",
    "                    neighbors.append((n1,n2))\n",
    "        neighbors.remove((self.x1, self.x2))\n",
    "        return neighbors\n",
    "    \n",
    "    def similar(self, other_agent, th = 30):\n",
    "        # 255 - distance\n",
    "        return np.mean(np.abs(self.RGB - other_agent.RGB)) < th\n",
    "    \n",
    "    def immitate(self, other_agent):\n",
    "        i = np.random.choice(3)\n",
    "        self.RGB[i] = other_agent.RGB[i]\n",
    "    \n",
    "    def selectOneNeigbor(self, k = 1):\n",
    "        neighbors = self.getNeighbors(k)\n",
    "        N = len(neighbors)\n",
    "        return neighbors[np.random.choice(N)]\n",
    "        "
   ]
  },
  {
   "cell_type": "code",
   "execution_count": 12,
   "metadata": {
    "collapsed": true
   },
   "outputs": [],
   "source": [
    "class culture():\n",
    "    def __init__(self, N1, N2):\n",
    "        self.N1, self.N2 = N1, N2\n",
    "        self.population = {(x1,x2): agent(x1 = x1, x2 = x2, x1_max = self.N1, x2_max =self.N2) \n",
    "                           for x1 in range(self.N1) for x2 in range(self.N2)}\n",
    " \n",
    "    def selectOneAgent(self):\n",
    "        IDs = self.population.keys()\n",
    "        one_idx = np.random.choice(len(IDs))\n",
    "        \n",
    "        return list(IDs)[one_idx]\n",
    "    \n",
    "    def run(self, time = 1000, threshold = 50):\n",
    "        for i in range(time):\n",
    "            A_index = self.selectOneAgent()\n",
    "            A = self.population[A_index]\n",
    "\n",
    "            B_index = A.selectOneNeigbor(k = 1)\n",
    "            B = self.population[B_index]\n",
    "\n",
    "            if A.similar(B, threshold):\n",
    "                A.immitate(B) \n",
    "        \n",
    "    def drawBoard(self):\n",
    "        array = np.zeros([10 * self.N1, 10 * self.N2, 3], dtype=np.uint8)\n",
    "        \n",
    "        for x1 in range(self.N1): \n",
    "            for x2 in range(self.N2):\n",
    "                person = self.population[(x1,x2)]\n",
    "\n",
    "                a,b,c,d = person.getCoordinates()\n",
    "                array[a:b, c:d] = person.RGB\n",
    "\n",
    "        plt.imshow(array) "
   ]
  },
  {
   "cell_type": "code",
   "execution_count": 14,
   "metadata": {},
   "outputs": [
    {
     "data": {
      "image/png": "[encoded data removed]",
      "text/plain": [
       "<matplotlib.figure.Figure at 0x11a9ea4e0>"
      ]
     },
     "metadata": {},
     "output_type": "display_data"
    }
   ],
   "source": [
    "plt.figure(figsize=(7,7))\n",
    "\n",
    "world = culture(N1 = 10, N2 =10)\n",
    "world.drawBoard()"
   ]
  },
  {
   "cell_type": "code",
   "execution_count": 15,
   "metadata": {},
   "outputs": [
    {
     "data": {
      "image/png": "[encoded data removed]",
      "text/plain": [
       "<matplotlib.figure.Figure at 0x11abd1dd8>"
      ]
     },
     "metadata": {},
     "output_type": "display_data"
    }
   ],
   "source": [
    "plt.figure(figsize=(7,7))\n",
    "\n",
    "world.run(time = 1000, threshold = 100)\n",
    "world.drawBoard()"
   ]
  },
  {
   "cell_type": "code",
   "execution_count": 16,
   "metadata": {},
   "outputs": [
    {
     "data": {
      "image/png": "[encoded data removed]",
      "text/plain": [
       "<matplotlib.figure.Figure at 0x11adbb9b0>"
      ]
     },
     "metadata": {},
     "output_type": "display_data"
    }
   ],
   "source": [
    "plt.figure(figsize=(7,7))\n",
    "\n",
    "world.run(time = 5000, threshold = 100)\n",
    "world.drawBoard()"
   ]
  },
  {
   "cell_type": "code",
   "execution_count": 17,
   "metadata": {},
   "outputs": [
    {
     "data": {
      "image/png": "[encoded data removed]",
      "text/plain": [
       "<matplotlib.figure.Figure at 0x11ae8b278>"
      ]
     },
     "metadata": {},
     "output_type": "display_data"
    }
   ],
   "source": [
    "plt.figure(figsize=(7,7))\n",
    "\n",
    "world.run(time = 5000, threshold = 100)\n",
    "world.drawBoard()"
   ]
  },
  {
   "cell_type": "code",
   "execution_count": 46,
   "metadata": {},
   "outputs": [
    {
     "data": {
      "image/png": "[encoded data removed]",
      "text/plain": [
       "<matplotlib.figure.Figure at 0x11b0b7358>"
      ]
     },
     "metadata": {},
     "output_type": "display_data"
    }
   ],
   "source": [
    "plt.figure(figsize=(7,7))\n",
    "\n",
    "world.run(time = 5000, threshold = 100)\n",
    "world.drawBoard()"
   ]
  },
  {
   "cell_type": "code",
   "execution_count": 47,
   "metadata": {},
   "outputs": [
    {
     "data": {
      "image/png": "[encoded data removed]",
      "text/plain": [
       "<matplotlib.figure.Figure at 0x11b0ec4e0>"
      ]
     },
     "metadata": {},
     "output_type": "display_data"
    }
   ],
   "source": [
    "plt.figure(figsize=(7,7))\n",
    "\n",
    "world.run(time = 5000, threshold = 100)\n",
    "world.drawBoard()"
   ]
  },
  {
   "cell_type": "code",
   "execution_count": 48,
   "metadata": {},
   "outputs": [
    {
     "data": {
      "image/png": "[encoded data removed]",
      "text/plain": [
       "<matplotlib.figure.Figure at 0x11ace6ef0>"
      ]
     },
     "metadata": {},
     "output_type": "display_data"
    }
   ],
   "source": [
    "plt.figure(figsize=(7,7))\n",
    "\n",
    "world.run(time = 5000, threshold = 100)\n",
    "world.drawBoard()"
   ]
  },
  {
   "cell_type": "markdown",
   "metadata": {},
   "source": [
    "# deneme"
   ]
  },
  {
   "cell_type": "code",
   "execution_count": 55,
   "metadata": {},
   "outputs": [
    {
     "data": {
      "image/png": "[encoded data removed]",
      "text/plain": [
       "<matplotlib.figure.Figure at 0x11ae07780>"
      ]
     },
     "metadata": {},
     "output_type": "display_data"
    }
   ],
   "source": [
    "plt.figure(figsize=(7,7))\n",
    "\n",
    "world = culture(N1 = 10, N2 =10)\n",
    "world.drawBoard()"
   ]
  },
  {
   "cell_type": "code",
   "execution_count": 56,
   "metadata": {},
   "outputs": [
    {
     "ename": "AttributeError",
     "evalue": "'tuple' object has no attribute 'x1'",
     "output_type": "error",
     "traceback": [
      "\u001b[0;31m---------------------------------------------------------------------------\u001b[0m",
      "\u001b[0;31mAttributeError\u001b[0m                            Traceback (most recent call last)",
      "\u001b[0;32m<ipython-input-56-e2e2ce705673>\u001b[0m in \u001b[0;36m<module>\u001b[0;34m()\u001b[0m\n\u001b[0;32m----> 1\u001b[0;31m \u001b[0;34m[\u001b[0m\u001b[0mhuman\u001b[0m\u001b[0;34m.\u001b[0m\u001b[0mx1\u001b[0m \u001b[0;32mfor\u001b[0m \u001b[0mhuman\u001b[0m \u001b[0;32min\u001b[0m \u001b[0mworld\u001b[0m\u001b[0;34m.\u001b[0m\u001b[0mpopulation\u001b[0m\u001b[0;34m]\u001b[0m\u001b[0;34m\u001b[0m\u001b[0m\n\u001b[0m",
      "\u001b[0;32m<ipython-input-56-e2e2ce705673>\u001b[0m in \u001b[0;36m<listcomp>\u001b[0;34m(.0)\u001b[0m\n\u001b[0;32m----> 1\u001b[0;31m \u001b[0;34m[\u001b[0m\u001b[0mhuman\u001b[0m\u001b[0;34m.\u001b[0m\u001b[0mx1\u001b[0m \u001b[0;32mfor\u001b[0m \u001b[0mhuman\u001b[0m \u001b[0;32min\u001b[0m \u001b[0mworld\u001b[0m\u001b[0;34m.\u001b[0m\u001b[0mpopulation\u001b[0m\u001b[0;34m]\u001b[0m\u001b[0;34m\u001b[0m\u001b[0m\n\u001b[0m",
      "\u001b[0;31mAttributeError\u001b[0m: 'tuple' object has no attribute 'x1'"
     ]
    }
   ],
   "source": [
    "[human.x1 for human in world.population]"
   ]
  },
  {
   "cell_type": "code",
   "execution_count": null,
   "metadata": {
    "collapsed": true
   },
   "outputs": [],
   "source": []
  }
 ],
 "metadata": {
  "kernelspec": {
   "display_name": "Python 3",
   "language": "python",
   "name": "python3"
  },
  "language_info": {
   "codemirror_mode": {
    "name": "ipython",
    "version": 3
   },
   "file_extension": ".py",
   "mimetype": "text/x-python",
   "name": "python",
   "nbconvert_exporter": "python",
   "pygments_lexer": "ipython3",
   "version": "3.6.1"
  }
 },
 "nbformat": 4,
 "nbformat_minor": 2
}
