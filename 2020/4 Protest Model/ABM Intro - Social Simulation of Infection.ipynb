{
 "cells": [
  {
   "cell_type": "code",
   "execution_count": 1,
   "metadata": {
    "collapsed": true
   },
   "outputs": [],
   "source": [
    "import numpy as np\n",
    "import matplotlib.pyplot as plt\n",
    "plt.style.use('ggplot')"
   ]
  },
  {
   "cell_type": "code",
   "execution_count": 2,
   "metadata": {
    "collapsed": true
   },
   "outputs": [],
   "source": [
    "class person():\n",
    "    def __init__(self, ID, infected = False):\n",
    "        self.tckimlikno = ID\n",
    "        self.infected = infected\n",
    "        \n",
    "    def talk(self, other_person):\n",
    "        if other_person.infected == True:\n",
    "            self.infected = True\n",
    "            \n",
    "            \n",
    "class world():\n",
    "    def __init__(self, numberOfPeople = 100):\n",
    "        self.N = numberOfPeople\n",
    "        self.population = [person(i) for i in range(self.N)]\n",
    "    \n",
    "    \n",
    "    def run(self, time = 200):\n",
    "        poor_guy = self.population[0]\n",
    "        poor_guy.infected = True\n",
    "        \n",
    "        contagion = []\n",
    "        for i in range(time):\n",
    "            a, b = np.random.choice(self.N, 2, replace=False)\n",
    "            A, B = self.population[a], self.population[b]\n",
    "\n",
    "            A.talk(B)\n",
    "            B.talk(A)\n",
    "            contagion.append(self.getInfectedSize())\n",
    "            \n",
    "        return contagion\n",
    "            \n",
    "    def getInfectedSize(self):\n",
    "        \"\"\"\n",
    "        returns number of infected people\n",
    "        \"\"\"\n",
    "        return np.sum([human.infected for human in self.population])\n",
    "        "
   ]
  },
  {
   "cell_type": "code",
   "execution_count": 11,
   "metadata": {
    "collapsed": true
   },
   "outputs": [],
   "source": [
    "cruel_world = world(numberOfPeople = 500)\n",
    "contagious = cruel_world.run(time = 4000)"
   ]
  },
  {
   "cell_type": "code",
   "execution_count": 12,
   "metadata": {},
   "outputs": [
    {
     "data": {
      "image/png": "[encoded data removed]",
      "text/plain": [
       "<matplotlib.figure.Figure at 0x1185fa198>"
      ]
     },
     "metadata": {},
     "output_type": "display_data"
    }
   ],
   "source": [
    "plt.plot(contagious)\n",
    "\n",
    "plt.xlabel('time')\n",
    "plt.ylabel('Number of infected People')\n",
    "plt.show()"
   ]
  },
  {
   "cell_type": "code",
   "execution_count": null,
   "metadata": {
    "collapsed": true
   },
   "outputs": [],
   "source": []
  }
 ],
 "metadata": {
  "kernelspec": {
   "display_name": "Python 3",
   "language": "python",
   "name": "python3"
  },
  "language_info": {
   "codemirror_mode": {
    "name": "ipython",
    "version": 3
   },
   "file_extension": ".py",
   "mimetype": "text/x-python",
   "name": "python",
   "nbconvert_exporter": "python",
   "pygments_lexer": "ipython3",
   "version": "3.6.1"
  }
 },
 "nbformat": 4,
 "nbformat_minor": 2
}
