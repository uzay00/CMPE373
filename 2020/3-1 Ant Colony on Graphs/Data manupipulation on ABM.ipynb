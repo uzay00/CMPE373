{
 "cells": [
  {
   "cell_type": "markdown",
   "metadata": {
    "collapsed": true
   },
   "source": [
    "# Data manupulation\n",
    " - Changing primitive data types does not effect other agents\n",
    " - changing data within an object that is shared among other agents, effects all"
   ]
  },
  {
   "cell_type": "code",
   "execution_count": 1,
   "metadata": {
    "collapsed": true
   },
   "outputs": [],
   "source": [
    "class data():\n",
    "    def __init__(self, val):\n",
    "        self.val = val \n",
    "\n",
    "class agent():\n",
    "    def __init__(self, name, val, datum):\n",
    "        self.name = name\n",
    "        self.val = val\n",
    "        self.datum = datum\n",
    "        \n",
    "    def info(self):\n",
    "        print(self.name)\n",
    "        print('>> Val: ', self.val)\n",
    "        print('>> datum.val: ', self.datum.val)\n",
    "        \n",
    "class world():\n",
    "    def __init__(self):\n",
    "        # Same object from class data belongs to A, B and world\n",
    "        self.datum = data(1)\n",
    "        self.val = 2\n",
    "        \n",
    "        # reference to datum is given to A and B\n",
    "        self.A = agent('A', self.val, self.datum)\n",
    "        self.B = agent('B',self.val, self.datum)\n",
    "        \n",
    "    def info(self):\n",
    "        self.A.info()\n",
    "        self.B.info()"
   ]
  },
  {
   "cell_type": "code",
   "execution_count": 2,
   "metadata": {
    "collapsed": true
   },
   "outputs": [],
   "source": [
    "w = world()"
   ]
  },
  {
   "cell_type": "code",
   "execution_count": 3,
   "metadata": {},
   "outputs": [
    {
     "name": "stdout",
     "output_type": "stream",
     "text": [
      "A\n",
      ">> Val:  2\n",
      ">> datum.val:  1\n",
      "B\n",
      ">> Val:  2\n",
      ">> datum.val:  1\n"
     ]
    }
   ],
   "source": [
    "w.info()"
   ]
  },
  {
   "cell_type": "markdown",
   "metadata": {},
   "source": [
    "## Changing primitive data types\n",
    "\n",
    "> Changing primitive data types does not effect others"
   ]
  },
  {
   "cell_type": "code",
   "execution_count": 4,
   "metadata": {},
   "outputs": [
    {
     "name": "stdout",
     "output_type": "stream",
     "text": [
      "A\n",
      ">> Val:  2\n",
      ">> datum.val:  1\n",
      "B\n",
      ">> Val:  2\n",
      ">> datum.val:  1\n"
     ]
    }
   ],
   "source": [
    "w.val = 3\n",
    "w.info()"
   ]
  },
  {
   "cell_type": "code",
   "execution_count": 5,
   "metadata": {},
   "outputs": [
    {
     "name": "stdout",
     "output_type": "stream",
     "text": [
      "A\n",
      ">> Val:  7\n",
      ">> datum.val:  1\n",
      "B\n",
      ">> Val:  2\n",
      ">> datum.val:  1\n"
     ]
    }
   ],
   "source": [
    "w.A.val = 7\n",
    "w.info()"
   ]
  },
  {
   "cell_type": "markdown",
   "metadata": {},
   "source": [
    "## Changing object value from class world\n",
    "\n",
    "> Change in same reference object effects all"
   ]
  },
  {
   "cell_type": "code",
   "execution_count": 6,
   "metadata": {},
   "outputs": [
    {
     "name": "stdout",
     "output_type": "stream",
     "text": [
      "A\n",
      ">> Val:  7\n",
      ">> datum.val:  4\n",
      "B\n",
      ">> Val:  2\n",
      ">> datum.val:  4\n"
     ]
    }
   ],
   "source": [
    "w.datum.val = 4\n",
    "w.info()"
   ]
  },
  {
   "cell_type": "markdown",
   "metadata": {},
   "source": [
    "## Changing object value from an object of class agent\n",
    "\n",
    "> Change in same reference object effects all"
   ]
  },
  {
   "cell_type": "code",
   "execution_count": 7,
   "metadata": {},
   "outputs": [
    {
     "name": "stdout",
     "output_type": "stream",
     "text": [
      "A\n",
      ">> Val:  7\n",
      ">> datum.val:  99\n",
      "B\n",
      ">> Val:  2\n",
      ">> datum.val:  99\n"
     ]
    }
   ],
   "source": [
    "w.A.datum.val = 99\n",
    "w.info()"
   ]
  }
 ],
 "metadata": {
  "kernelspec": {
   "display_name": "Python 3",
   "language": "python",
   "name": "python3"
  },
  "language_info": {
   "codemirror_mode": {
    "name": "ipython",
    "version": 3
   },
   "file_extension": ".py",
   "mimetype": "text/x-python",
   "name": "python",
   "nbconvert_exporter": "python",
   "pygments_lexer": "ipython3",
   "version": "3.6.1"
  }
 },
 "nbformat": 4,
 "nbformat_minor": 2
}
