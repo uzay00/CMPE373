{
 "cells": [
  {
   "cell_type": "code",
   "execution_count": 1,
   "metadata": {},
   "outputs": [
    {
     "name": "stdout",
     "output_type": "stream",
     "text": [
      "NetworkX version: 2.4\n"
     ]
    }
   ],
   "source": [
    "import warnings\n",
    "warnings.filterwarnings('ignore')\n",
    "\n",
    "import numpy as np\n",
    "import pandas as pd\n",
    "import seaborn as sns\n",
    "sns.set()\n",
    "\n",
    "import networkx as nx\n",
    "import matplotlib.pyplot as plt\n",
    "%matplotlib inline\n",
    "print('NetworkX version: {}'.format(nx.__version__))"
   ]
  },
  {
   "cell_type": "markdown",
   "metadata": {},
   "source": [
    "![](simple_network.JPG)"
   ]
  },
  {
   "cell_type": "code",
   "execution_count": 2,
   "metadata": {},
   "outputs": [],
   "source": [
    "G=nx.DiGraph()\n",
    "G.add_node('A', role = 'source')\n",
    "G.add_node('F', role = 'target')\n",
    "\n",
    "G.add_edge('A','B', weight = 1 ) # Directed edge From A to B\n",
    "G.add_edge('A','C', weight = 7)\n",
    "G.add_edge('B','D', weight = 2)\n",
    "G.add_edge('C','D', weight = 8)\n",
    "G.add_edge('D','E', weight = 9)\n",
    "G.add_edge('C','F', weight = 15)\n",
    "G.add_edge('D','F', weight = 1)\n",
    "G.add_edge('E','F', weight = 3)"
   ]
  },
  {
   "cell_type": "code",
   "execution_count": 3,
   "metadata": {},
   "outputs": [
    {
     "data": {
      "text/plain": [
       "[('A', 'B'), ('B', 'D'), ('D', 'F')]"
      ]
     },
     "execution_count": 3,
     "metadata": {},
     "output_type": "execute_result"
    }
   ],
   "source": [
    "sp = nx.shortest_path(G,'A', 'F', 'weight')\n",
    "list(zip(sp[:-1],sp[1:]))"
   ]
  },
  {
   "cell_type": "code",
   "execution_count": 4,
   "metadata": {},
   "outputs": [
    {
     "data": {
      "image/png": "[encoded data removed]",
      "text/plain": [
       "<matplotlib.figure.Figure at 0x126db0f28>"
      ]
     },
     "metadata": {},
     "output_type": "display_data"
    }
   ],
   "source": [
    "pos_fr = nx.fruchterman_reingold_layout(G)\n",
    "pos_fr\n",
    "\n",
    "nx.draw(G, pos=pos_fr, node_size=500, \n",
    "        alpha = 0.7, node_color='pink', \n",
    "        with_labels=True)\n",
    "\n",
    "# Plot edges \n",
    "nx.draw_networkx_edges(G, pos=pos_fr, edgelist=list(zip(sp[:-1],sp[1:])), width=3, edge_color='red')\n",
    "\n",
    "# Plot edge labels\n",
    "nx.draw_networkx_edge_labels(G, pos=pos_fr, edge_labels=nx.get_edge_attributes(G,'weight'))\n",
    "plt.tight_layout()"
   ]
  },
  {
   "cell_type": "code",
   "execution_count": 9,
   "metadata": {},
   "outputs": [
    {
     "data": {
      "text/plain": [
       "OutEdgeDataView([('A', 'B', {'weight': 1, 'pheromone': 0}), ('A', 'C', {'weight': 7, 'pheromone': 0}), ('B', 'D', {'weight': 2, 'pheromone': 0}), ('C', 'D', {'weight': 8, 'pheromone': 0}), ('C', 'F', {'weight': 15, 'pheromone': 0}), ('D', 'E', {'weight': 9, 'pheromone': 0}), ('D', 'F', {'weight': 1, 'pheromone': 0}), ('E', 'F', {'weight': 3, 'pheromone': 0})])"
      ]
     },
     "execution_count": 9,
     "metadata": {},
     "output_type": "execute_result"
    }
   ],
   "source": [
    "# initial pheromone values\n",
    "\n",
    "nx.set_edge_attributes(G, 0, 'pheromone')\n",
    "G.edges(data =True)"
   ]
  },
  {
   "cell_type": "code",
   "execution_count": 10,
   "metadata": {},
   "outputs": [
    {
     "data": {
      "text/plain": [
       "{('A', 'B'): 0,\n",
       " ('A', 'C'): 0,\n",
       " ('B', 'D'): 0,\n",
       " ('C', 'D'): 0,\n",
       " ('C', 'F'): 0,\n",
       " ('D', 'E'): 0,\n",
       " ('D', 'F'): 0,\n",
       " ('E', 'F'): 0}"
      ]
     },
     "execution_count": 10,
     "metadata": {},
     "output_type": "execute_result"
    }
   ],
   "source": [
    "phe = nx.get_edge_attributes(G, 'pheromone')\n",
    "phe"
   ]
  },
  {
   "cell_type": "code",
   "execution_count": 17,
   "metadata": {},
   "outputs": [
    {
     "data": {
      "text/plain": [
       "{('A', 'B'): 1,\n",
       " ('A', 'C'): 1,\n",
       " ('B', 'D'): 1,\n",
       " ('C', 'D'): 1,\n",
       " ('C', 'F'): 1,\n",
       " ('D', 'E'): 1,\n",
       " ('D', 'F'): 1,\n",
       " ('E', 'F'): 1}"
      ]
     },
     "execution_count": 17,
     "metadata": {},
     "output_type": "execute_result"
    }
   ],
   "source": [
    "new_phe = {k:v+1 for k, v in phe.items()}\n",
    "new_phe"
   ]
  },
  {
   "cell_type": "code",
   "execution_count": 18,
   "metadata": {},
   "outputs": [
    {
     "data": {
      "text/plain": [
       "{('A', 'B'): 1,\n",
       " ('A', 'C'): 1,\n",
       " ('B', 'D'): 1,\n",
       " ('C', 'D'): 1,\n",
       " ('C', 'F'): 1,\n",
       " ('D', 'E'): 1,\n",
       " ('D', 'F'): 1,\n",
       " ('E', 'F'): 1}"
      ]
     },
     "execution_count": 18,
     "metadata": {},
     "output_type": "execute_result"
    }
   ],
   "source": [
    "nx.set_edge_attributes(G, new_phe, 'pheromone')\n",
    "phe = nx.get_edge_attributes(G, 'pheromone')\n",
    "phe"
   ]
  },
  {
   "cell_type": "code",
   "execution_count": 21,
   "metadata": {},
   "outputs": [
    {
     "data": {
      "text/plain": [
       "{'pheromone': 1, 'weight': 1}"
      ]
     },
     "execution_count": 21,
     "metadata": {},
     "output_type": "execute_result"
    }
   ],
   "source": [
    "G.edges[('A', 'B')]"
   ]
  },
  {
   "cell_type": "code",
   "execution_count": 22,
   "metadata": {},
   "outputs": [
    {
     "data": {
      "text/plain": [
       "1"
      ]
     },
     "execution_count": 22,
     "metadata": {},
     "output_type": "execute_result"
    }
   ],
   "source": [
    "G.edges[('A', 'B')]['pheromone']"
   ]
  },
  {
   "cell_type": "markdown",
   "metadata": {},
   "source": [
    "# Ant Colony"
   ]
  },
  {
   "cell_type": "code",
   "execution_count": 5,
   "metadata": {
    "collapsed": true
   },
   "outputs": [],
   "source": [
    "class ant():\n",
    "    def __init__(self, env, phe, \n",
    "                 start = 'A', end = 'E',\n",
    "                alpha = 1, beta = 1):\n",
    "        \n",
    "        self.env, self.phe  = env, phe\n",
    "        \n",
    "        self.alpha, self.beta = alpha, beta\n",
    "        self.cities = list(self.env.columns)\n",
    "        self.current_city = start\n",
    "        self.target_city = end\n",
    "        \n",
    "        self.route = [self.current_city]\n",
    "        \n",
    "        self.possible_cities = self.cities.copy()\n",
    "        self.possible_cities.remove(self.current_city)\n",
    "    \n",
    "    def move(self):\n",
    "        \"\"\"\n",
    "        Move one step\n",
    "        \"\"\"\n",
    "        if self.current_city == self.target_city:\n",
    "            return\n",
    "        \n",
    "        # non-zero distances\n",
    "        self.possible_cities = self.env.loc[self.current_city] != 0\n",
    "        \n",
    "        distances = self.env.loc[self.current_city][self.possible_cities]\n",
    "        pheremons = self.phe.loc[self.current_city][self.possible_cities]\n",
    "        \n",
    "        preferences = pheremons**self.alpha/distances**self.beta\n",
    "        probabilities = preferences/preferences.sum()\n",
    "        #print(probabilities)\n",
    "        \n",
    "        self.current_city = np.random.choice(a = probabilities.index, \n",
    "                                             size=1, \n",
    "                                             p = probabilities.values)[0]\n",
    "        \n",
    "        self.route.append(self.current_city) \n",
    "        #self.possible_cities.remove(self.current_city)\n",
    "        \n",
    "    def go(self):\n",
    "        \"\"\"\n",
    "        Bulid route/path\n",
    "        \"\"\"\n",
    "        for i in range(len(self.cities)):\n",
    "            self.move()\n",
    "\n",
    "    def deposit(self):\n",
    "        return self.route\n",
    "        \n",
    "    def cost(self):\n",
    "        result = 0\n",
    "        for i in range(len(self.route)-1):\n",
    "            result += self.env.loc[self.route[i], self.route[i+1]]\n",
    "        return result"
   ]
  },
  {
   "cell_type": "code",
   "execution_count": 6,
   "metadata": {
    "collapsed": true
   },
   "outputs": [],
   "source": [
    "class antcolony():\n",
    "    def __init__(self, G):\n",
    "        \n",
    "        self.G = G\n",
    "        self.true_path = nx.shortest_path(G,'A', 'F', 'weight')\n",
    "        self.start, self.end = self.true_path[0], self.true_path[-1]\n",
    "        \n",
    "        # initial pheromone values\n",
    "        nx.set_edge_attributes(self.G, 0, 'pheromone')\n",
    "        \n",
    "        self.true_path_ratio = []\n",
    "\n",
    "    def evaporation(self, decay = 0.05):\n",
    "        # Evaporation of Pheromon\n",
    "        phe = nx.get_edge_attributes(G, 'pheromone')\n",
    "        new_phe = {k:v * (1 - decay) for k, v in phe.items()}\n",
    "        nx.set_edge_attributes(self.G, new_phe, 'pheromone')\n",
    "\n",
    "        \n",
    "    def deposit(self, route, delta = 1):\n",
    "        for i,j in zip(route[:-1], route[1:]):\n",
    "            self.G.edges[(i, j)]['pheromone'] +=  delta/ self.G.edges[(i, j)]['weight']\n",
    "            #self.phe.loc[i, j] +=  delta/self.env.loc[i, j]\n",
    "        \n",
    "    def run(self, K = 10, time = 20):\n",
    "        # in each time step\n",
    "        for t in range(time):\n",
    "            # K ants exist in the colony\n",
    "            self.colony = [ant(self.G, start= self.start,end =  self.end) \n",
    "                      for k in range(K)]\n",
    "\n",
    "            # distributed and paralel moves of K ants\n",
    "            for k in range(K):\n",
    "                self.colony[k].go()   \n",
    "\n",
    "            # after independent moves, ants deposit pheremon\n",
    "            for k in range(K):\n",
    "                path = self.colony[k].deposit()\n",
    "                self.deposit(route = path)\n",
    "                \n",
    "            self.evaporation()\n",
    "            \n",
    "            self.true_path_ratio.append(np.mean([a.route == self.true_path for a in self.colony]))"
   ]
  },
  {
   "cell_type": "code",
   "execution_count": 7,
   "metadata": {
    "collapsed": true
   },
   "outputs": [],
   "source": []
  },
  {
   "cell_type": "code",
   "execution_count": 8,
   "metadata": {},
   "outputs": [
    {
     "data": {
      "text/plain": [
       "OutEdgeDataView([('A', 'B', {'weight': 1, 'pheromone': 0}), ('A', 'C', {'weight': 7, 'pheromone': 0}), ('B', 'D', {'weight': 2, 'pheromone': 0}), ('C', 'D', {'weight': 8, 'pheromone': 0}), ('C', 'F', {'weight': 15, 'pheromone': 0}), ('D', 'E', {'weight': 9, 'pheromone': 0}), ('D', 'F', {'weight': 1, 'pheromone': 0}), ('E', 'F', {'weight': 3, 'pheromone': 0})])"
      ]
     },
     "execution_count": 8,
     "metadata": {},
     "output_type": "execute_result"
    }
   ],
   "source": []
  },
  {
   "cell_type": "code",
   "execution_count": null,
   "metadata": {
    "collapsed": true
   },
   "outputs": [],
   "source": []
  }
 ],
 "metadata": {
  "kernelspec": {
   "display_name": "Python 3",
   "language": "python",
   "name": "python3"
  },
  "language_info": {
   "codemirror_mode": {
    "name": "ipython",
    "version": 3
   },
   "file_extension": ".py",
   "mimetype": "text/x-python",
   "name": "python",
   "nbconvert_exporter": "python",
   "pygments_lexer": "ipython3",
   "version": "3.6.1"
  }
 },
 "nbformat": 4,
 "nbformat_minor": 2
}
