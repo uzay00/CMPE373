{
 "cells": [
  {
   "cell_type": "code",
   "execution_count": 1,
   "metadata": {},
   "outputs": [
    {
     "name": "stdout",
     "output_type": "stream",
     "text": [
      "NetworkX version: 2.4\n"
     ]
    }
   ],
   "source": [
    "import warnings\n",
    "warnings.filterwarnings('ignore')\n",
    "\n",
    "import numpy as np\n",
    "import pandas as pd\n",
    "import seaborn as sns\n",
    "sns.set()\n",
    "\n",
    "import networkx as nx\n",
    "import matplotlib.pyplot as plt\n",
    "%matplotlib inline\n",
    "print('NetworkX version: {}'.format(nx.__version__))"
   ]
  },
  {
   "cell_type": "markdown",
   "metadata": {},
   "source": [
    "![](simple_network.JPG)"
   ]
  },
  {
   "cell_type": "code",
   "execution_count": 2,
   "metadata": {
    "collapsed": true
   },
   "outputs": [],
   "source": [
    "G=nx.DiGraph()\n",
    "G.add_node('A', role = 'source')\n",
    "G.add_node('F', role = 'target')\n",
    "\n",
    "G.add_edge('A','B', weight = 1 ) # Directed edge From A to B\n",
    "G.add_edge('A','C', weight = 7)\n",
    "G.add_edge('B','D', weight = 2)\n",
    "G.add_edge('C','D', weight = 8)\n",
    "G.add_edge('D','E', weight = 9)\n",
    "G.add_edge('C','F', weight = 15)\n",
    "G.add_edge('D','F', weight = 1)\n",
    "G.add_edge('E','F', weight = 3)"
   ]
  },
  {
   "cell_type": "code",
   "execution_count": 3,
   "metadata": {},
   "outputs": [
    {
     "data": {
      "text/plain": [
       "[('A', 'B'), ('B', 'D'), ('D', 'F')]"
      ]
     },
     "execution_count": 3,
     "metadata": {},
     "output_type": "execute_result"
    }
   ],
   "source": [
    "sp = nx.shortest_path(G,'A', 'F', 'weight')\n",
    "list(zip(sp[:-1],sp[1:]))"
   ]
  },
  {
   "cell_type": "code",
   "execution_count": 4,
   "metadata": {},
   "outputs": [
    {
     "data": {
      "image/png": "[encoded data removed]",
      "text/plain": [
       "<matplotlib.figure.Figure at 0x1274eac50>"
      ]
     },
     "metadata": {},
     "output_type": "display_data"
    }
   ],
   "source": [
    "pos_fr = nx.fruchterman_reingold_layout(G)\n",
    "pos_fr\n",
    "\n",
    "nx.draw(G, pos=pos_fr, node_size=500, \n",
    "        alpha = 0.7, node_color='pink', \n",
    "        with_labels=True)\n",
    "\n",
    "# Plot edges \n",
    "nx.draw_networkx_edges(G, pos=pos_fr, edgelist=list(zip(sp[:-1],sp[1:])), width=3, edge_color='red')\n",
    "\n",
    "# Plot edge labels\n",
    "nx.draw_networkx_edge_labels(G, pos=pos_fr, edge_labels=nx.get_edge_attributes(G,'weight'))\n",
    "plt.tight_layout()"
   ]
  },
  {
   "cell_type": "code",
   "execution_count": 5,
   "metadata": {},
   "outputs": [
    {
     "data": {
      "text/plain": [
       "OutEdgeDataView([('A', 'B', {'weight': 1, 'pheromone': 0}), ('A', 'C', {'weight': 7, 'pheromone': 0}), ('B', 'D', {'weight': 2, 'pheromone': 0}), ('C', 'D', {'weight': 8, 'pheromone': 0}), ('C', 'F', {'weight': 15, 'pheromone': 0}), ('D', 'E', {'weight': 9, 'pheromone': 0}), ('D', 'F', {'weight': 1, 'pheromone': 0}), ('E', 'F', {'weight': 3, 'pheromone': 0})])"
      ]
     },
     "execution_count": 5,
     "metadata": {},
     "output_type": "execute_result"
    }
   ],
   "source": [
    "# initial pheromone values\n",
    "\n",
    "nx.set_edge_attributes(G, 0, 'pheromone')\n",
    "G.edges(data =True)"
   ]
  },
  {
   "cell_type": "code",
   "execution_count": 6,
   "metadata": {},
   "outputs": [
    {
     "data": {
      "text/plain": [
       "{('A', 'B'): 0,\n",
       " ('A', 'C'): 0,\n",
       " ('B', 'D'): 0,\n",
       " ('C', 'D'): 0,\n",
       " ('C', 'F'): 0,\n",
       " ('D', 'E'): 0,\n",
       " ('D', 'F'): 0,\n",
       " ('E', 'F'): 0}"
      ]
     },
     "execution_count": 6,
     "metadata": {},
     "output_type": "execute_result"
    }
   ],
   "source": [
    "phe = nx.get_edge_attributes(G, 'pheromone')\n",
    "phe"
   ]
  },
  {
   "cell_type": "code",
   "execution_count": 7,
   "metadata": {},
   "outputs": [
    {
     "data": {
      "text/plain": [
       "{('A', 'B'): 1,\n",
       " ('A', 'C'): 1,\n",
       " ('B', 'D'): 1,\n",
       " ('C', 'D'): 1,\n",
       " ('C', 'F'): 1,\n",
       " ('D', 'E'): 1,\n",
       " ('D', 'F'): 1,\n",
       " ('E', 'F'): 1}"
      ]
     },
     "execution_count": 7,
     "metadata": {},
     "output_type": "execute_result"
    }
   ],
   "source": [
    "new_phe = {k:v+1 for k, v in phe.items()}\n",
    "new_phe"
   ]
  },
  {
   "cell_type": "code",
   "execution_count": 8,
   "metadata": {},
   "outputs": [
    {
     "data": {
      "text/plain": [
       "{('A', 'B'): 1,\n",
       " ('A', 'C'): 1,\n",
       " ('B', 'D'): 1,\n",
       " ('C', 'D'): 1,\n",
       " ('C', 'F'): 1,\n",
       " ('D', 'E'): 1,\n",
       " ('D', 'F'): 1,\n",
       " ('E', 'F'): 1}"
      ]
     },
     "execution_count": 8,
     "metadata": {},
     "output_type": "execute_result"
    }
   ],
   "source": [
    "nx.set_edge_attributes(G, new_phe, 'pheromone')\n",
    "phe = nx.get_edge_attributes(G, 'pheromone')\n",
    "phe"
   ]
  },
  {
   "cell_type": "code",
   "execution_count": 9,
   "metadata": {},
   "outputs": [
    {
     "data": {
      "text/plain": [
       "{'pheromone': 1, 'weight': 1}"
      ]
     },
     "execution_count": 9,
     "metadata": {},
     "output_type": "execute_result"
    }
   ],
   "source": [
    "G.edges[('A', 'B')]"
   ]
  },
  {
   "cell_type": "code",
   "execution_count": 10,
   "metadata": {},
   "outputs": [
    {
     "data": {
      "text/plain": [
       "1"
      ]
     },
     "execution_count": 10,
     "metadata": {},
     "output_type": "execute_result"
    }
   ],
   "source": [
    "G.edges[('A', 'B')]['pheromone']"
   ]
  },
  {
   "cell_type": "code",
   "execution_count": 11,
   "metadata": {},
   "outputs": [
    {
     "data": {
      "text/plain": [
       "['B', 'C']"
      ]
     },
     "execution_count": 11,
     "metadata": {},
     "output_type": "execute_result"
    }
   ],
   "source": [
    "list(nx.all_neighbors(G, 'A'))"
   ]
  },
  {
   "cell_type": "code",
   "execution_count": 12,
   "metadata": {},
   "outputs": [
    {
     "data": {
      "text/plain": [
       "OutEdgeDataView([('A', 'B'), ('A', 'C')])"
      ]
     },
     "execution_count": 12,
     "metadata": {},
     "output_type": "execute_result"
    }
   ],
   "source": [
    "G.edges(['A'])"
   ]
  },
  {
   "cell_type": "code",
   "execution_count": 13,
   "metadata": {},
   "outputs": [
    {
     "data": {
      "text/plain": [
       "[(('A', 'B'), 1), (('A', 'C'), 7)]"
      ]
     },
     "execution_count": 13,
     "metadata": {},
     "output_type": "execute_result"
    }
   ],
   "source": [
    "[(e, G.edges[e]['weight']) for e in G.edges(['A'])]"
   ]
  },
  {
   "cell_type": "code",
   "execution_count": 14,
   "metadata": {},
   "outputs": [
    {
     "data": {
      "text/plain": [
       "['B', 'C']"
      ]
     },
     "execution_count": 14,
     "metadata": {},
     "output_type": "execute_result"
    }
   ],
   "source": [
    "possible_cities = [e[1] for e in G.edges(['A'])]\n",
    "possible_cities"
   ]
  },
  {
   "cell_type": "code",
   "execution_count": 15,
   "metadata": {},
   "outputs": [
    {
     "data": {
      "text/plain": [
       "[1, 1]"
      ]
     },
     "execution_count": 15,
     "metadata": {},
     "output_type": "execute_result"
    }
   ],
   "source": [
    "pheromones = [G.edges[e]['pheromone'] for e in G.edges(['A'])]\n",
    "pheromones"
   ]
  },
  {
   "cell_type": "code",
   "execution_count": 16,
   "metadata": {},
   "outputs": [
    {
     "data": {
      "text/plain": [
       "[1, 7]"
      ]
     },
     "execution_count": 16,
     "metadata": {},
     "output_type": "execute_result"
    }
   ],
   "source": [
    "distances = [G.edges[e]['weight'] for e in G.edges(['A'])]\n",
    "distances"
   ]
  },
  {
   "cell_type": "code",
   "execution_count": null,
   "metadata": {
    "collapsed": true
   },
   "outputs": [],
   "source": []
  },
  {
   "cell_type": "markdown",
   "metadata": {},
   "source": [
    "# Ant Colony"
   ]
  },
  {
   "cell_type": "code",
   "execution_count": 17,
   "metadata": {
    "collapsed": true
   },
   "outputs": [],
   "source": [
    "class ant():\n",
    "    def __init__(self, G, start = 'A', end = 'E',\n",
    "                alpha = 1, beta = 1):\n",
    "        \n",
    "        self.G = G\n",
    "        self.current_city = start\n",
    "        self.target_city = end\n",
    "        self.alpha, self.beta = alpha, beta\n",
    "        self.route = [self.current_city]\n",
    "    \n",
    "    def move(self):\n",
    "        \"\"\"\n",
    "        Move one step\n",
    "        \"\"\"\n",
    "        if self.current_city == self.target_city:\n",
    "            return\n",
    "        \n",
    "        # non-zero distances\n",
    "        self.possible_cities = [e[1] for e in G.edges([self.current_city])]\n",
    "        \n",
    "        # Dont visit an-already-visited city\n",
    "        for city in self.route:\n",
    "            if city in self.possible_cities:\n",
    "                self.possible_cities.remove(city)\n",
    "        \n",
    "        distances = np.array([G.edges[e]['weight'] for e in G.edges([self.current_city])])\n",
    "        pheremons = np.array([G.edges[e]['pheromone'] for e in G.edges([self.current_city])])\n",
    "        \n",
    "        preferences = pheremons**self.alpha/distances**self.beta\n",
    "        probabilities = preferences/preferences.sum()\n",
    "        #print(\"distances\", distances)\n",
    "        #print(\"pheremons\", pheremons)\n",
    "        #print(probabilities)\n",
    "        \n",
    "        self.current_city = np.random.choice(a = self.possible_cities, \n",
    "                                             size=1, \n",
    "                                             p = probabilities)[0]\n",
    "        \n",
    "        self.route.append(self.current_city) \n",
    "        #self.possible_cities.remove(self.current_city)\n",
    "        \n",
    "    def go(self):\n",
    "        \"\"\"\n",
    "        Bulid route/path\n",
    "        \"\"\"\n",
    "        for i in range(self.G.number_of_nodes()):\n",
    "            self.move()\n",
    "\n",
    "    def deposit(self):\n",
    "        return self.route\n",
    "    "
   ]
  },
  {
   "cell_type": "code",
   "execution_count": 18,
   "metadata": {
    "collapsed": true
   },
   "outputs": [],
   "source": [
    "class antcolony():\n",
    "    def __init__(self, G):\n",
    "        \n",
    "        self.G = G\n",
    "        self.true_path = nx.shortest_path(G,'A', 'F', 'weight')\n",
    "        self.start, self.end = self.true_path[0], self.true_path[-1]\n",
    "        \n",
    "        # initial pheromone values\n",
    "        nx.set_edge_attributes(self.G, 0.1, 'pheromone')\n",
    "        \n",
    "        self.true_path_ratio = []\n",
    "\n",
    "    def evaporation(self, decay = 0.05):\n",
    "        # Evaporation of Pheromon\n",
    "        phe = nx.get_edge_attributes(G, 'pheromone')\n",
    "        new_phe = {k:v * (1 - decay) for k, v in phe.items()}\n",
    "        nx.set_edge_attributes(self.G, new_phe, 'pheromone')\n",
    "\n",
    "        \n",
    "    def deposit(self, route, delta = 1):\n",
    "        for i,j in zip(route[:-1], route[1:]):\n",
    "            self.G.edges[(i, j)]['pheromone'] +=  delta/ self.G.edges[(i, j)]['weight']\n",
    "            #self.phe.loc[i, j] +=  delta/self.env.loc[i, j]\n",
    "        \n",
    "    def run(self, K = 10, time = 20):\n",
    "        # in each time step\n",
    "        for t in range(time):\n",
    "            # K ants exist in the colony\n",
    "            self.colony = [ant(self.G, start= self.start,end =  self.end) \n",
    "                      for k in range(K)]\n",
    "\n",
    "            # distributed and paralel moves of K ants\n",
    "            for k in range(K):\n",
    "                self.colony[k].go()   \n",
    "\n",
    "            # after independent moves, ants deposit pheremon\n",
    "            for k in range(K):\n",
    "                path = self.colony[k].deposit()\n",
    "                self.deposit(route = path)\n",
    "                \n",
    "            self.evaporation()\n",
    "            \n",
    "            self.true_path_ratio.append(np.mean([a.route == self.true_path for a in self.colony]))"
   ]
  },
  {
   "cell_type": "code",
   "execution_count": 19,
   "metadata": {
    "collapsed": true
   },
   "outputs": [],
   "source": [
    "swarm = antcolony(G)\n",
    "swarm.run(K = 10, time = 10)"
   ]
  },
  {
   "cell_type": "code",
   "execution_count": 20,
   "metadata": {},
   "outputs": [
    {
     "data": {
      "image/png": "[encoded data removed]",
      "text/plain": [
       "<matplotlib.figure.Figure at 0x12751da90>"
      ]
     },
     "metadata": {},
     "output_type": "display_data"
    }
   ],
   "source": [
    "plt.plot(swarm.true_path_ratio)\n",
    "plt.show()"
   ]
  },
  {
   "cell_type": "code",
   "execution_count": 21,
   "metadata": {},
   "outputs": [
    {
     "data": {
      "text/plain": [
       "[['A', 'B', 'D', 'F'],\n",
       " ['A', 'B', 'D', 'F'],\n",
       " ['A', 'B', 'D', 'F'],\n",
       " ['A', 'B', 'D', 'F'],\n",
       " ['A', 'B', 'D', 'F'],\n",
       " ['A', 'B', 'D', 'F'],\n",
       " ['A', 'B', 'D', 'F'],\n",
       " ['A', 'B', 'D', 'F'],\n",
       " ['A', 'B', 'D', 'F'],\n",
       " ['A', 'B', 'D', 'F']]"
      ]
     },
     "execution_count": 21,
     "metadata": {},
     "output_type": "execute_result"
    }
   ],
   "source": [
    "[a.route for a in swarm.colony]"
   ]
  },
  {
   "cell_type": "code",
   "execution_count": 22,
   "metadata": {},
   "outputs": [
    {
     "data": {
      "image/png": "[encoded data removed]",
      "text/plain": [
       "<matplotlib.figure.Figure at 0x129821940>"
      ]
     },
     "metadata": {},
     "output_type": "display_data"
    }
   ],
   "source": [
    "sp = swarm.colony[0].route\n",
    "\n",
    "pos_fr = nx.fruchterman_reingold_layout(G)\n",
    "pos_fr\n",
    "\n",
    "nx.draw(G, pos=pos_fr, node_size=500, \n",
    "        alpha = 0.7, node_color='pink', \n",
    "        with_labels=True)\n",
    "\n",
    "# Plot edges \n",
    "nx.draw_networkx_edges(G, pos=pos_fr, edgelist=list(zip(sp[:-1],sp[1:])), width=3, edge_color='red')\n",
    "\n",
    "# Plot edge labels\n",
    "nx.draw_networkx_edge_labels(G, pos=pos_fr, edge_labels=nx.get_edge_attributes(G,'weight'))\n",
    "plt.tight_layout()"
   ]
  },
  {
   "cell_type": "code",
   "execution_count": null,
   "metadata": {
    "collapsed": true
   },
   "outputs": [],
   "source": []
  }
 ],
 "metadata": {
  "kernelspec": {
   "display_name": "Python 3",
   "language": "python",
   "name": "python3"
  },
  "language_info": {
   "codemirror_mode": {
    "name": "ipython",
    "version": 3
   },
   "file_extension": ".py",
   "mimetype": "text/x-python",
   "name": "python",
   "nbconvert_exporter": "python",
   "pygments_lexer": "ipython3",
   "version": "3.6.1"
  }
 },
 "nbformat": 4,
 "nbformat_minor": 2
}
