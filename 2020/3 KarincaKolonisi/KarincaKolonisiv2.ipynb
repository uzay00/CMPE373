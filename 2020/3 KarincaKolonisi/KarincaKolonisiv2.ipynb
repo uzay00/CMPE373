{
 "cells": [
  {
   "cell_type": "code",
   "execution_count": 1,
   "metadata": {
    "collapsed": true
   },
   "outputs": [],
   "source": [
    "import numpy as np\n",
    "import pandas as pd\n",
    "import matplotlib.pyplot as plt\n",
    "import seaborn as sns\n",
    "sns.set()"
   ]
  },
  {
   "cell_type": "code",
   "execution_count": 2,
   "metadata": {
    "collapsed": true
   },
   "outputs": [],
   "source": [
    "def create_environment(cities = ['A','B','C','D','E','F','G'],  path = ['A', 'F', 'D', 'E'], eps = 0.0001):\n",
    "    N =len(cities)\n",
    "    def distance_matrix(cities, path):\n",
    "        env = pd.DataFrame(data=np.ones((N,N)) * 10, columns=cities, index = cities)\n",
    "        \n",
    "        ## -1: disallowed passage\n",
    "        for i in range(N):\n",
    "            env.loc[cities[i], cities[i]] = -1\n",
    "\n",
    "        for i in range(len(path)-1):\n",
    "            env.loc[path[i], path[i+1]] = 1\n",
    "            env.loc[path[i+1], path[i]] = 1\n",
    "\n",
    "        return env\n",
    "\n",
    "    def pheremon_matrix(cities, eps = eps):\n",
    "        N =len(cities)\n",
    "        return pd.DataFrame(data=np.ones((N,N)) * eps, columns=cities, index = cities)\n",
    "\n",
    "    return distance_matrix(cities, path), pheremon_matrix(cities)"
   ]
  },
  {
   "cell_type": "code",
   "execution_count": 3,
   "metadata": {
    "collapsed": true
   },
   "outputs": [],
   "source": [
    "class ant():\n",
    "    def __init__(self, env, phe, \n",
    "                 start = 'A', end = 'E',\n",
    "                alpha = 1, beta = 1):\n",
    "        \n",
    "        self.env, self.phe  = env, phe\n",
    "        self.alpha, self.beta = alpha, beta\n",
    "        self.cities = list(self.env.columns)\n",
    "        self.current_city = start\n",
    "        self.target_city = end\n",
    "        \n",
    "        self.route = [self.current_city]\n",
    "        \n",
    "        self.possible_cities = self.cities.copy()\n",
    "        self.possible_cities.remove(self.current_city)\n",
    "    \n",
    "    def move(self):\n",
    "        if self.current_city == self.target_city:\n",
    "            return\n",
    "        \n",
    "        distances = env.loc[self.current_city , env.loc[self.current_city ] > 0][self.possible_cities]\n",
    "        pheremons = phe.loc[self.current_city , env.loc[self.current_city ] > 0][self.possible_cities]\n",
    "        \n",
    "        preferences = pheremons**self.alpha/distances**self.beta\n",
    "        probabilities = preferences/preferences.sum()\n",
    "        #print(probabilities)\n",
    "        \n",
    "        self.current_city = np.random.choice(a = probabilities.index, \n",
    "                                             size=1, \n",
    "                                             p = probabilities.values)[0]\n",
    "        \n",
    "        self.route.append(self.current_city) \n",
    "        self.possible_cities.remove(self.current_city)\n",
    "        \n",
    "        #self.deposit()\n",
    "\n",
    "    def deposit(self, delta = 1):\n",
    "        i, j = self.route[-2:]\n",
    "        self.phe.loc[i, j] +=  delta/self.env.loc[i, j]\n",
    "        self.phe.loc[j, i] +=  delta/self.env.loc[j, i]\n",
    "        \n",
    "    def cost(self):\n",
    "        result = 0\n",
    "        for i in range(len(self.route)-1):\n",
    "            result += self.env.loc[self.route[i], self.route[i+1]]\n",
    "        return result"
   ]
  },
  {
   "cell_type": "code",
   "execution_count": 4,
   "metadata": {
    "collapsed": true
   },
   "outputs": [],
   "source": [
    "cities = ['A','B','C','D','E','F','G']\n",
    "true_path = ['A', 'B','C','D', 'E']\n",
    "env, phe = create_environment(cities = cities, path = true_path)\n",
    "\n",
    "eps = 0.0001\n",
    "K = 10\n",
    "time = 10\n",
    "true_path_ratio = []\n",
    "\n",
    "# in each time step\n",
    "for t in range(time):\n",
    "    # k ants exist in the colony\n",
    "    colony = [ant(env = env, phe =phe) for k in range(K)]\n",
    "    \n",
    "    # each ant make N moves \n",
    "    for i in range(len(cities)):\n",
    "        # distributed and paralel moves of K ants\n",
    "        for k in range(K):\n",
    "            colony[k].move()\n",
    "        # after independent moves, ants deposit pheremon\n",
    "        for k in range(K):\n",
    "            colony[k].deposit()\n",
    "            \n",
    "    true_path_ratio.append(np.mean([a.route == true_path for a in colony]))"
   ]
  },
  {
   "cell_type": "code",
   "execution_count": 5,
   "metadata": {},
   "outputs": [
    {
     "data": {
      "text/html": [
       "<div>\n",
       "<style scoped>\n",
       "    .dataframe tbody tr th:only-of-type {\n",
       "        vertical-align: middle;\n",
       "    }\n",
       "\n",
       "    .dataframe tbody tr th {\n",
       "        vertical-align: top;\n",
       "    }\n",
       "\n",
       "    .dataframe thead th {\n",
       "        text-align: right;\n",
       "    }\n",
       "</style>\n",
       "<table border=\"1\" class=\"dataframe\">\n",
       "  <thead>\n",
       "    <tr style=\"text-align: right;\">\n",
       "      <th></th>\n",
       "      <th>A</th>\n",
       "      <th>B</th>\n",
       "      <th>C</th>\n",
       "      <th>D</th>\n",
       "      <th>E</th>\n",
       "      <th>F</th>\n",
       "      <th>G</th>\n",
       "    </tr>\n",
       "  </thead>\n",
       "  <tbody>\n",
       "    <tr>\n",
       "      <th>A</th>\n",
       "      <td>0.0001</td>\n",
       "      <td>95.0001</td>\n",
       "      <td>0.1001</td>\n",
       "      <td>0.1001</td>\n",
       "      <td>0.0001</td>\n",
       "      <td>0.1001</td>\n",
       "      <td>0.2001</td>\n",
       "    </tr>\n",
       "    <tr>\n",
       "      <th>B</th>\n",
       "      <td>95.0001</td>\n",
       "      <td>0.0001</td>\n",
       "      <td>98.0001</td>\n",
       "      <td>0.0001</td>\n",
       "      <td>0.6001</td>\n",
       "      <td>0.1001</td>\n",
       "      <td>0.3001</td>\n",
       "    </tr>\n",
       "    <tr>\n",
       "      <th>C</th>\n",
       "      <td>0.1001</td>\n",
       "      <td>98.0001</td>\n",
       "      <td>0.0001</td>\n",
       "      <td>97.0001</td>\n",
       "      <td>0.0001</td>\n",
       "      <td>0.0001</td>\n",
       "      <td>0.0001</td>\n",
       "    </tr>\n",
       "    <tr>\n",
       "      <th>D</th>\n",
       "      <td>0.1001</td>\n",
       "      <td>0.0001</td>\n",
       "      <td>97.0001</td>\n",
       "      <td>0.0001</td>\n",
       "      <td>374.0001</td>\n",
       "      <td>0.0001</td>\n",
       "      <td>0.2001</td>\n",
       "    </tr>\n",
       "    <tr>\n",
       "      <th>E</th>\n",
       "      <td>0.0001</td>\n",
       "      <td>0.6001</td>\n",
       "      <td>0.0001</td>\n",
       "      <td>374.0001</td>\n",
       "      <td>0.0001</td>\n",
       "      <td>0.0001</td>\n",
       "      <td>1.9001</td>\n",
       "    </tr>\n",
       "    <tr>\n",
       "      <th>F</th>\n",
       "      <td>0.1001</td>\n",
       "      <td>0.1001</td>\n",
       "      <td>0.0001</td>\n",
       "      <td>0.0001</td>\n",
       "      <td>0.0001</td>\n",
       "      <td>0.0001</td>\n",
       "      <td>0.0001</td>\n",
       "    </tr>\n",
       "    <tr>\n",
       "      <th>G</th>\n",
       "      <td>0.2001</td>\n",
       "      <td>0.3001</td>\n",
       "      <td>0.0001</td>\n",
       "      <td>0.2001</td>\n",
       "      <td>1.9001</td>\n",
       "      <td>0.0001</td>\n",
       "      <td>0.0001</td>\n",
       "    </tr>\n",
       "  </tbody>\n",
       "</table>\n",
       "</div>"
      ],
      "text/plain": [
       "         A        B        C         D         E       F       G\n",
       "A   0.0001  95.0001   0.1001    0.1001    0.0001  0.1001  0.2001\n",
       "B  95.0001   0.0001  98.0001    0.0001    0.6001  0.1001  0.3001\n",
       "C   0.1001  98.0001   0.0001   97.0001    0.0001  0.0001  0.0001\n",
       "D   0.1001   0.0001  97.0001    0.0001  374.0001  0.0001  0.2001\n",
       "E   0.0001   0.6001   0.0001  374.0001    0.0001  0.0001  1.9001\n",
       "F   0.1001   0.1001   0.0001    0.0001    0.0001  0.0001  0.0001\n",
       "G   0.2001   0.3001   0.0001    0.2001    1.9001  0.0001  0.0001"
      ]
     },
     "execution_count": 5,
     "metadata": {},
     "output_type": "execute_result"
    }
   ],
   "source": [
    "phe"
   ]
  },
  {
   "cell_type": "code",
   "execution_count": 6,
   "metadata": {},
   "outputs": [
    {
     "data": {
      "text/html": [
       "<div>\n",
       "<style scoped>\n",
       "    .dataframe tbody tr th:only-of-type {\n",
       "        vertical-align: middle;\n",
       "    }\n",
       "\n",
       "    .dataframe tbody tr th {\n",
       "        vertical-align: top;\n",
       "    }\n",
       "\n",
       "    .dataframe thead th {\n",
       "        text-align: right;\n",
       "    }\n",
       "</style>\n",
       "<table border=\"1\" class=\"dataframe\">\n",
       "  <thead>\n",
       "    <tr style=\"text-align: right;\">\n",
       "      <th></th>\n",
       "      <th>A</th>\n",
       "      <th>B</th>\n",
       "      <th>C</th>\n",
       "      <th>D</th>\n",
       "      <th>E</th>\n",
       "      <th>F</th>\n",
       "      <th>G</th>\n",
       "    </tr>\n",
       "  </thead>\n",
       "  <tbody>\n",
       "    <tr>\n",
       "      <th>A</th>\n",
       "      <td>-1.0</td>\n",
       "      <td>1.0</td>\n",
       "      <td>10.0</td>\n",
       "      <td>10.0</td>\n",
       "      <td>10.0</td>\n",
       "      <td>10.0</td>\n",
       "      <td>10.0</td>\n",
       "    </tr>\n",
       "    <tr>\n",
       "      <th>B</th>\n",
       "      <td>1.0</td>\n",
       "      <td>-1.0</td>\n",
       "      <td>1.0</td>\n",
       "      <td>10.0</td>\n",
       "      <td>10.0</td>\n",
       "      <td>10.0</td>\n",
       "      <td>10.0</td>\n",
       "    </tr>\n",
       "    <tr>\n",
       "      <th>C</th>\n",
       "      <td>10.0</td>\n",
       "      <td>1.0</td>\n",
       "      <td>-1.0</td>\n",
       "      <td>1.0</td>\n",
       "      <td>10.0</td>\n",
       "      <td>10.0</td>\n",
       "      <td>10.0</td>\n",
       "    </tr>\n",
       "    <tr>\n",
       "      <th>D</th>\n",
       "      <td>10.0</td>\n",
       "      <td>10.0</td>\n",
       "      <td>1.0</td>\n",
       "      <td>-1.0</td>\n",
       "      <td>1.0</td>\n",
       "      <td>10.0</td>\n",
       "      <td>10.0</td>\n",
       "    </tr>\n",
       "    <tr>\n",
       "      <th>E</th>\n",
       "      <td>10.0</td>\n",
       "      <td>10.0</td>\n",
       "      <td>10.0</td>\n",
       "      <td>1.0</td>\n",
       "      <td>-1.0</td>\n",
       "      <td>10.0</td>\n",
       "      <td>10.0</td>\n",
       "    </tr>\n",
       "    <tr>\n",
       "      <th>F</th>\n",
       "      <td>10.0</td>\n",
       "      <td>10.0</td>\n",
       "      <td>10.0</td>\n",
       "      <td>10.0</td>\n",
       "      <td>10.0</td>\n",
       "      <td>-1.0</td>\n",
       "      <td>10.0</td>\n",
       "    </tr>\n",
       "    <tr>\n",
       "      <th>G</th>\n",
       "      <td>10.0</td>\n",
       "      <td>10.0</td>\n",
       "      <td>10.0</td>\n",
       "      <td>10.0</td>\n",
       "      <td>10.0</td>\n",
       "      <td>10.0</td>\n",
       "      <td>-1.0</td>\n",
       "    </tr>\n",
       "  </tbody>\n",
       "</table>\n",
       "</div>"
      ],
      "text/plain": [
       "      A     B     C     D     E     F     G\n",
       "A  -1.0   1.0  10.0  10.0  10.0  10.0  10.0\n",
       "B   1.0  -1.0   1.0  10.0  10.0  10.0  10.0\n",
       "C  10.0   1.0  -1.0   1.0  10.0  10.0  10.0\n",
       "D  10.0  10.0   1.0  -1.0   1.0  10.0  10.0\n",
       "E  10.0  10.0  10.0   1.0  -1.0  10.0  10.0\n",
       "F  10.0  10.0  10.0  10.0  10.0  -1.0  10.0\n",
       "G  10.0  10.0  10.0  10.0  10.0  10.0  -1.0"
      ]
     },
     "execution_count": 6,
     "metadata": {},
     "output_type": "execute_result"
    }
   ],
   "source": [
    "env"
   ]
  },
  {
   "cell_type": "code",
   "execution_count": 7,
   "metadata": {},
   "outputs": [
    {
     "data": {
      "text/plain": [
       "[0.2, 1.0, 1.0, 1.0, 1.0, 1.0, 1.0, 1.0, 1.0, 1.0]"
      ]
     },
     "execution_count": 7,
     "metadata": {},
     "output_type": "execute_result"
    }
   ],
   "source": [
    "true_path_ratio"
   ]
  },
  {
   "cell_type": "code",
   "execution_count": 8,
   "metadata": {},
   "outputs": [
    {
     "data": {
      "text/plain": [
       "[(4.0, ['A', 'B', 'C', 'D', 'E']),\n",
       " (4.0, ['A', 'B', 'C', 'D', 'E']),\n",
       " (4.0, ['A', 'B', 'C', 'D', 'E']),\n",
       " (4.0, ['A', 'B', 'C', 'D', 'E']),\n",
       " (4.0, ['A', 'B', 'C', 'D', 'E']),\n",
       " (4.0, ['A', 'B', 'C', 'D', 'E']),\n",
       " (4.0, ['A', 'B', 'C', 'D', 'E']),\n",
       " (4.0, ['A', 'B', 'C', 'D', 'E']),\n",
       " (4.0, ['A', 'B', 'C', 'D', 'E']),\n",
       " (4.0, ['A', 'B', 'C', 'D', 'E'])]"
      ]
     },
     "execution_count": 8,
     "metadata": {},
     "output_type": "execute_result"
    }
   ],
   "source": [
    "[(a.cost(), a.route) for a in colony]"
   ]
  },
  {
   "cell_type": "markdown",
   "metadata": {},
   "source": [
    "## Any Graph"
   ]
  },
  {
   "cell_type": "code",
   "execution_count": 9,
   "metadata": {},
   "outputs": [
    {
     "name": "stdout",
     "output_type": "stream",
     "text": [
      "['A0', 'A1', 'A2', 'A3', 'A4', 'A5', 'A6', 'A7', 'A8', 'A9', 'A10', 'A11', 'A12', 'A13', 'A14', 'A15', 'A16', 'A17', 'A18', 'A19', 'A20', 'A21', 'A22', 'A23', 'A24', 'A25', 'A26', 'A27', 'A28', 'A29', 'A30', 'A31', 'A32', 'A33', 'A34', 'A35', 'A36', 'A37', 'A38', 'A39', 'A40', 'A41', 'A42', 'A43', 'A44', 'A45', 'A46', 'A47', 'A48', 'A49']\n",
      "['A4', 'A39', 'A20', 'A23', 'A41', 'A2', 'A24']\n",
      "A4 A24\n"
     ]
    }
   ],
   "source": [
    "N = 50\n",
    "path_len = 7\n",
    "cities = ['A'+str(i) for i in range(N)]\n",
    "true_path = ['A'+str(i) for i in np.random.choice(N, size=path_len,replace=False)]\n",
    "\n",
    "start, end = true_path[0], true_path[-1]\n",
    "\n",
    "print(cities)\n",
    "print(true_path)\n",
    "print(start, end )"
   ]
  },
  {
   "cell_type": "code",
   "execution_count": 10,
   "metadata": {
    "collapsed": true
   },
   "outputs": [],
   "source": [
    "env, phe = create_environment(cities = cities, path = true_path)\n",
    "\n",
    "eps = 0.0001\n",
    "K = 100\n",
    "time = 10\n",
    "true_path_ratio = []\n",
    "\n",
    "# in each time step\n",
    "for t in range(time):\n",
    "    # k ants exist in the colony\n",
    "    colony = [ant(env = env, phe =phe, start = start, end = end) for k in range(K)]\n",
    "\n",
    "    # each ant make N moves \n",
    "    for i in range(len(cities)):\n",
    "        # distributed and paralel moves of K ants\n",
    "        for k in range(K):\n",
    "            colony[k].move()\n",
    "        # after independent moves, ants deposit pheremon\n",
    "        for k in range(K):\n",
    "            colony[k].deposit()\n",
    "\n",
    "    true_path_ratio.append(np.mean([a.route == true_path for a in colony]))"
   ]
  },
  {
   "cell_type": "code",
   "execution_count": 11,
   "metadata": {
    "collapsed": true
   },
   "outputs": [],
   "source": [
    "#phe"
   ]
  },
  {
   "cell_type": "code",
   "execution_count": 12,
   "metadata": {},
   "outputs": [
    {
     "data": {
      "image/png": "[encoded data removed]",
      "text/plain": [
       "<matplotlib.figure.Figure at 0x1262ff3c8>"
      ]
     },
     "metadata": {},
     "output_type": "display_data"
    }
   ],
   "source": [
    "plt.plot(true_path_ratio)\n",
    "plt.show()"
   ]
  },
  {
   "cell_type": "code",
   "execution_count": 13,
   "metadata": {
    "collapsed": true
   },
   "outputs": [],
   "source": [
    "#[(a.cost(), a.route) for a in colony]"
   ]
  },
  {
   "cell_type": "code",
   "execution_count": 14,
   "metadata": {},
   "outputs": [
    {
     "data": {
      "text/plain": [
       "['A4', 'A39', 'A20', 'A23', 'A41', 'A2', 'A24']"
      ]
     },
     "execution_count": 14,
     "metadata": {},
     "output_type": "execute_result"
    }
   ],
   "source": [
    "true_path"
   ]
  },
  {
   "cell_type": "code",
   "execution_count": null,
   "metadata": {
    "collapsed": true
   },
   "outputs": [],
   "source": []
  },
  {
   "cell_type": "code",
   "execution_count": null,
   "metadata": {
    "collapsed": true
   },
   "outputs": [],
   "source": []
  }
 ],
 "metadata": {
  "kernelspec": {
   "display_name": "Python 3",
   "language": "python",
   "name": "python3"
  },
  "language_info": {
   "codemirror_mode": {
    "name": "ipython",
    "version": 3
   },
   "file_extension": ".py",
   "mimetype": "text/x-python",
   "name": "python",
   "nbconvert_exporter": "python",
   "pygments_lexer": "ipython3",
   "version": "3.6.1"
  }
 },
 "nbformat": 4,
 "nbformat_minor": 2
}
