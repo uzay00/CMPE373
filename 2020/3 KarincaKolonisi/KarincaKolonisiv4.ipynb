{
 "cells": [
  {
   "cell_type": "code",
   "execution_count": 1,
   "metadata": {
    "collapsed": true
   },
   "outputs": [],
   "source": [
    "import numpy as np\n",
    "import pandas as pd\n",
    "import matplotlib.pyplot as plt\n",
    "import seaborn as sns\n",
    "sns.set()"
   ]
  },
  {
   "cell_type": "code",
   "execution_count": 2,
   "metadata": {
    "collapsed": true
   },
   "outputs": [],
   "source": [
    "def create_environment(cities = ['A','B','C','D','E','F','G'],  \n",
    "                       path = ['A', 'F', 'D', 'E'], \n",
    "                       eps = 0.0001):\n",
    "    N =len(cities)\n",
    "    def distance_matrix(cities, path):\n",
    "        env = pd.DataFrame(data=np.ones((N,N)) * 10, columns=cities, index = cities)\n",
    "        \n",
    "        ## -1: disallowed passage\n",
    "        for i in range(N):\n",
    "            env.loc[cities[i], cities[i]] = -1\n",
    "\n",
    "        for i in range(len(path)-1):\n",
    "            env.loc[path[i], path[i+1]] = 1\n",
    "            env.loc[path[i+1], path[i]] = 1\n",
    "\n",
    "        return env\n",
    "\n",
    "    def pheremon_matrix(cities, eps = eps):\n",
    "        N =len(cities)\n",
    "        data = (np.ones((N,N))- np.eye(N)) /(N-1)\n",
    "        return pd.DataFrame(data=data, columns=cities, index = cities)\n",
    "\n",
    "    return distance_matrix(cities, path), pheremon_matrix(cities)"
   ]
  },
  {
   "cell_type": "code",
   "execution_count": 3,
   "metadata": {
    "collapsed": true
   },
   "outputs": [],
   "source": [
    "cities = ['A','B','C','D','E','F','G']\n",
    "true_path = ['A', 'B','C','D', 'E']\n",
    "env, phe = create_environment(cities = cities, path = true_path)"
   ]
  },
  {
   "cell_type": "code",
   "execution_count": 4,
   "metadata": {},
   "outputs": [
    {
     "data": {
      "text/html": [
       "<div>\n",
       "<style scoped>\n",
       "    .dataframe tbody tr th:only-of-type {\n",
       "        vertical-align: middle;\n",
       "    }\n",
       "\n",
       "    .dataframe tbody tr th {\n",
       "        vertical-align: top;\n",
       "    }\n",
       "\n",
       "    .dataframe thead th {\n",
       "        text-align: right;\n",
       "    }\n",
       "</style>\n",
       "<table border=\"1\" class=\"dataframe\">\n",
       "  <thead>\n",
       "    <tr style=\"text-align: right;\">\n",
       "      <th></th>\n",
       "      <th>A</th>\n",
       "      <th>B</th>\n",
       "      <th>C</th>\n",
       "      <th>D</th>\n",
       "      <th>E</th>\n",
       "      <th>F</th>\n",
       "      <th>G</th>\n",
       "    </tr>\n",
       "  </thead>\n",
       "  <tbody>\n",
       "    <tr>\n",
       "      <th>A</th>\n",
       "      <td>-1.0</td>\n",
       "      <td>1.0</td>\n",
       "      <td>10.0</td>\n",
       "      <td>10.0</td>\n",
       "      <td>10.0</td>\n",
       "      <td>10.0</td>\n",
       "      <td>10.0</td>\n",
       "    </tr>\n",
       "    <tr>\n",
       "      <th>B</th>\n",
       "      <td>1.0</td>\n",
       "      <td>-1.0</td>\n",
       "      <td>1.0</td>\n",
       "      <td>10.0</td>\n",
       "      <td>10.0</td>\n",
       "      <td>10.0</td>\n",
       "      <td>10.0</td>\n",
       "    </tr>\n",
       "    <tr>\n",
       "      <th>C</th>\n",
       "      <td>10.0</td>\n",
       "      <td>1.0</td>\n",
       "      <td>-1.0</td>\n",
       "      <td>1.0</td>\n",
       "      <td>10.0</td>\n",
       "      <td>10.0</td>\n",
       "      <td>10.0</td>\n",
       "    </tr>\n",
       "    <tr>\n",
       "      <th>D</th>\n",
       "      <td>10.0</td>\n",
       "      <td>10.0</td>\n",
       "      <td>1.0</td>\n",
       "      <td>-1.0</td>\n",
       "      <td>1.0</td>\n",
       "      <td>10.0</td>\n",
       "      <td>10.0</td>\n",
       "    </tr>\n",
       "    <tr>\n",
       "      <th>E</th>\n",
       "      <td>10.0</td>\n",
       "      <td>10.0</td>\n",
       "      <td>10.0</td>\n",
       "      <td>1.0</td>\n",
       "      <td>-1.0</td>\n",
       "      <td>10.0</td>\n",
       "      <td>10.0</td>\n",
       "    </tr>\n",
       "    <tr>\n",
       "      <th>F</th>\n",
       "      <td>10.0</td>\n",
       "      <td>10.0</td>\n",
       "      <td>10.0</td>\n",
       "      <td>10.0</td>\n",
       "      <td>10.0</td>\n",
       "      <td>-1.0</td>\n",
       "      <td>10.0</td>\n",
       "    </tr>\n",
       "    <tr>\n",
       "      <th>G</th>\n",
       "      <td>10.0</td>\n",
       "      <td>10.0</td>\n",
       "      <td>10.0</td>\n",
       "      <td>10.0</td>\n",
       "      <td>10.0</td>\n",
       "      <td>10.0</td>\n",
       "      <td>-1.0</td>\n",
       "    </tr>\n",
       "  </tbody>\n",
       "</table>\n",
       "</div>"
      ],
      "text/plain": [
       "      A     B     C     D     E     F     G\n",
       "A  -1.0   1.0  10.0  10.0  10.0  10.0  10.0\n",
       "B   1.0  -1.0   1.0  10.0  10.0  10.0  10.0\n",
       "C  10.0   1.0  -1.0   1.0  10.0  10.0  10.0\n",
       "D  10.0  10.0   1.0  -1.0   1.0  10.0  10.0\n",
       "E  10.0  10.0  10.0   1.0  -1.0  10.0  10.0\n",
       "F  10.0  10.0  10.0  10.0  10.0  -1.0  10.0\n",
       "G  10.0  10.0  10.0  10.0  10.0  10.0  -1.0"
      ]
     },
     "execution_count": 4,
     "metadata": {},
     "output_type": "execute_result"
    }
   ],
   "source": [
    "env"
   ]
  },
  {
   "cell_type": "code",
   "execution_count": 5,
   "metadata": {},
   "outputs": [
    {
     "data": {
      "text/html": [
       "<div>\n",
       "<style scoped>\n",
       "    .dataframe tbody tr th:only-of-type {\n",
       "        vertical-align: middle;\n",
       "    }\n",
       "\n",
       "    .dataframe tbody tr th {\n",
       "        vertical-align: top;\n",
       "    }\n",
       "\n",
       "    .dataframe thead th {\n",
       "        text-align: right;\n",
       "    }\n",
       "</style>\n",
       "<table border=\"1\" class=\"dataframe\">\n",
       "  <thead>\n",
       "    <tr style=\"text-align: right;\">\n",
       "      <th></th>\n",
       "      <th>A</th>\n",
       "      <th>B</th>\n",
       "      <th>C</th>\n",
       "      <th>D</th>\n",
       "      <th>E</th>\n",
       "      <th>F</th>\n",
       "      <th>G</th>\n",
       "    </tr>\n",
       "  </thead>\n",
       "  <tbody>\n",
       "    <tr>\n",
       "      <th>A</th>\n",
       "      <td>0.000000</td>\n",
       "      <td>0.166667</td>\n",
       "      <td>0.166667</td>\n",
       "      <td>0.166667</td>\n",
       "      <td>0.166667</td>\n",
       "      <td>0.166667</td>\n",
       "      <td>0.166667</td>\n",
       "    </tr>\n",
       "    <tr>\n",
       "      <th>B</th>\n",
       "      <td>0.166667</td>\n",
       "      <td>0.000000</td>\n",
       "      <td>0.166667</td>\n",
       "      <td>0.166667</td>\n",
       "      <td>0.166667</td>\n",
       "      <td>0.166667</td>\n",
       "      <td>0.166667</td>\n",
       "    </tr>\n",
       "    <tr>\n",
       "      <th>C</th>\n",
       "      <td>0.166667</td>\n",
       "      <td>0.166667</td>\n",
       "      <td>0.000000</td>\n",
       "      <td>0.166667</td>\n",
       "      <td>0.166667</td>\n",
       "      <td>0.166667</td>\n",
       "      <td>0.166667</td>\n",
       "    </tr>\n",
       "    <tr>\n",
       "      <th>D</th>\n",
       "      <td>0.166667</td>\n",
       "      <td>0.166667</td>\n",
       "      <td>0.166667</td>\n",
       "      <td>0.000000</td>\n",
       "      <td>0.166667</td>\n",
       "      <td>0.166667</td>\n",
       "      <td>0.166667</td>\n",
       "    </tr>\n",
       "    <tr>\n",
       "      <th>E</th>\n",
       "      <td>0.166667</td>\n",
       "      <td>0.166667</td>\n",
       "      <td>0.166667</td>\n",
       "      <td>0.166667</td>\n",
       "      <td>0.000000</td>\n",
       "      <td>0.166667</td>\n",
       "      <td>0.166667</td>\n",
       "    </tr>\n",
       "    <tr>\n",
       "      <th>F</th>\n",
       "      <td>0.166667</td>\n",
       "      <td>0.166667</td>\n",
       "      <td>0.166667</td>\n",
       "      <td>0.166667</td>\n",
       "      <td>0.166667</td>\n",
       "      <td>0.000000</td>\n",
       "      <td>0.166667</td>\n",
       "    </tr>\n",
       "    <tr>\n",
       "      <th>G</th>\n",
       "      <td>0.166667</td>\n",
       "      <td>0.166667</td>\n",
       "      <td>0.166667</td>\n",
       "      <td>0.166667</td>\n",
       "      <td>0.166667</td>\n",
       "      <td>0.166667</td>\n",
       "      <td>0.000000</td>\n",
       "    </tr>\n",
       "  </tbody>\n",
       "</table>\n",
       "</div>"
      ],
      "text/plain": [
       "          A         B         C         D         E         F         G\n",
       "A  0.000000  0.166667  0.166667  0.166667  0.166667  0.166667  0.166667\n",
       "B  0.166667  0.000000  0.166667  0.166667  0.166667  0.166667  0.166667\n",
       "C  0.166667  0.166667  0.000000  0.166667  0.166667  0.166667  0.166667\n",
       "D  0.166667  0.166667  0.166667  0.000000  0.166667  0.166667  0.166667\n",
       "E  0.166667  0.166667  0.166667  0.166667  0.000000  0.166667  0.166667\n",
       "F  0.166667  0.166667  0.166667  0.166667  0.166667  0.000000  0.166667\n",
       "G  0.166667  0.166667  0.166667  0.166667  0.166667  0.166667  0.000000"
      ]
     },
     "execution_count": 5,
     "metadata": {},
     "output_type": "execute_result"
    }
   ],
   "source": [
    "phe"
   ]
  },
  {
   "cell_type": "code",
   "execution_count": 6,
   "metadata": {
    "collapsed": true
   },
   "outputs": [],
   "source": [
    "possible_cities = ['B','C']"
   ]
  },
  {
   "cell_type": "code",
   "execution_count": 7,
   "metadata": {},
   "outputs": [
    {
     "data": {
      "text/plain": [
       "B     1.0\n",
       "C    10.0\n",
       "Name: A, dtype: float64"
      ]
     },
     "execution_count": 7,
     "metadata": {},
     "output_type": "execute_result"
    }
   ],
   "source": [
    "distances = env.loc['A'][possible_cities]\n",
    "distances"
   ]
  },
  {
   "cell_type": "code",
   "execution_count": 8,
   "metadata": {},
   "outputs": [
    {
     "data": {
      "text/plain": [
       "B    0.166667\n",
       "C    0.166667\n",
       "Name: A, dtype: float64"
      ]
     },
     "execution_count": 8,
     "metadata": {},
     "output_type": "execute_result"
    }
   ],
   "source": [
    "pheremons = phe.loc['A'][possible_cities]\n",
    "pheremons"
   ]
  },
  {
   "cell_type": "code",
   "execution_count": 9,
   "metadata": {},
   "outputs": [
    {
     "data": {
      "text/plain": [
       "B    0.909091\n",
       "C    0.090909\n",
       "Name: A, dtype: float64"
      ]
     },
     "execution_count": 9,
     "metadata": {},
     "output_type": "execute_result"
    }
   ],
   "source": [
    "preferences = pheremons/distances\n",
    "probabilities = preferences/preferences.sum()\n",
    "probabilities"
   ]
  },
  {
   "cell_type": "code",
   "execution_count": 10,
   "metadata": {
    "collapsed": true
   },
   "outputs": [],
   "source": [
    "class ant():\n",
    "    def __init__(self, env, phe, \n",
    "                 start = 'A', end = 'E',\n",
    "                alpha = 1, beta = 1):\n",
    "        \n",
    "        self.env, self.phe  = env, phe\n",
    "        \n",
    "        self.alpha, self.beta = alpha, beta\n",
    "        self.cities = list(self.env.columns)\n",
    "        self.current_city = start\n",
    "        self.target_city = end\n",
    "        \n",
    "        self.route = [self.current_city]\n",
    "        \n",
    "        self.possible_cities = self.cities.copy()\n",
    "        self.possible_cities.remove(self.current_city)\n",
    "    \n",
    "    def move(self):\n",
    "        \"\"\"\n",
    "        Move one step\n",
    "        \"\"\"\n",
    "        if self.current_city == self.target_city:\n",
    "            return\n",
    "        \n",
    "        distances = self.env.loc[self.current_city][self.possible_cities]\n",
    "        pheremons = self.phe.loc[self.current_city][self.possible_cities]\n",
    "        \n",
    "        preferences = pheremons**self.alpha/distances**self.beta\n",
    "        probabilities = preferences/preferences.sum()\n",
    "        #print(probabilities)\n",
    "        \n",
    "        self.current_city = np.random.choice(a = probabilities.index, \n",
    "                                             size=1, \n",
    "                                             p = probabilities.values)[0]\n",
    "        \n",
    "        self.route.append(self.current_city) \n",
    "        self.possible_cities.remove(self.current_city)\n",
    "        \n",
    "    def go(self):\n",
    "        \"\"\"\n",
    "        Bulid route/path\n",
    "        \"\"\"\n",
    "        for i in range(len(self.cities)):\n",
    "            self.move()\n",
    "\n",
    "    def deposit(self):\n",
    "        return self.route\n",
    "        \n",
    "    def cost(self):\n",
    "        result = 0\n",
    "        for i in range(len(self.route)-1):\n",
    "            result += self.env.loc[self.route[i], self.route[i+1]]\n",
    "        return result"
   ]
  },
  {
   "cell_type": "code",
   "execution_count": 11,
   "metadata": {
    "collapsed": true
   },
   "outputs": [],
   "source": [
    "class antcolony():\n",
    "    def __init__(self,\n",
    "                 cities = ['A','B','C','D','E','F','G'],\n",
    "                 true_path = ['A', 'B','C','D', 'E']):\n",
    "        \n",
    "        self.cities = cities\n",
    "        self.true_path = true_path\n",
    "        self.start, self.end = true_path[0], true_path[-1]\n",
    "        \n",
    "        self.env, self.phe = create_environment(cities = cities, path = true_path)\n",
    "        \n",
    "        self.true_path_ratio = []\n",
    "\n",
    "    def evaporation(self, decay = 0.05):\n",
    "        # Evaporation of Pheromon\n",
    "        self.phe = self.phe * (1 - decay)\n",
    "        \n",
    "    def deposit(self, route, delta = 1):\n",
    "        for i,j in zip(route[:-1], route[1:]):\n",
    "            self.phe.loc[i, j] +=  delta/self.env.loc[i, j]\n",
    "        \n",
    "    def run(self, K = 10, time = 20):\n",
    "        # in each time step\n",
    "        for t in range(time):\n",
    "            # K ants exist in the colony\n",
    "            self.colony = [ant(env = self.env, phe = self.phe, \n",
    "                          start= self.start,end =  self.end) \n",
    "                      for k in range(K)]\n",
    "\n",
    "            # distributed and paralel moves of K ants\n",
    "            for k in range(K):\n",
    "                self.colony[k].go()   \n",
    "\n",
    "            # after independent moves, ants deposit pheremon\n",
    "            for k in range(K):\n",
    "                path = self.colony[k].deposit()\n",
    "                self.deposit(route = path)\n",
    "                \n",
    "            self.evaporation()\n",
    "            \n",
    "            self.true_path_ratio.append(np.mean([a.route == true_path for a in self.colony]))"
   ]
  },
  {
   "cell_type": "code",
   "execution_count": 12,
   "metadata": {
    "collapsed": true
   },
   "outputs": [],
   "source": [
    "swarm = antcolony()\n",
    "swarm.run(K = 10, time = 5)"
   ]
  },
  {
   "cell_type": "code",
   "execution_count": 13,
   "metadata": {},
   "outputs": [
    {
     "data": {
      "image/png": "[encoded data removed]",
      "text/plain": [
       "<matplotlib.figure.Figure at 0x126348780>"
      ]
     },
     "metadata": {},
     "output_type": "display_data"
    }
   ],
   "source": [
    "plt.plot(swarm.true_path_ratio)\n",
    "plt.show()"
   ]
  },
  {
   "cell_type": "code",
   "execution_count": 14,
   "metadata": {},
   "outputs": [
    {
     "data": {
      "text/html": [
       "<div>\n",
       "<style scoped>\n",
       "    .dataframe tbody tr th:only-of-type {\n",
       "        vertical-align: middle;\n",
       "    }\n",
       "\n",
       "    .dataframe tbody tr th {\n",
       "        vertical-align: top;\n",
       "    }\n",
       "\n",
       "    .dataframe thead th {\n",
       "        text-align: right;\n",
       "    }\n",
       "</style>\n",
       "<table border=\"1\" class=\"dataframe\">\n",
       "  <thead>\n",
       "    <tr style=\"text-align: right;\">\n",
       "      <th></th>\n",
       "      <th>A</th>\n",
       "      <th>B</th>\n",
       "      <th>C</th>\n",
       "      <th>D</th>\n",
       "      <th>E</th>\n",
       "      <th>F</th>\n",
       "      <th>G</th>\n",
       "    </tr>\n",
       "  </thead>\n",
       "  <tbody>\n",
       "    <tr>\n",
       "      <th>A</th>\n",
       "      <td>0.000000</td>\n",
       "      <td>43.110585</td>\n",
       "      <td>0.128963</td>\n",
       "      <td>0.128963</td>\n",
       "      <td>0.128963</td>\n",
       "      <td>0.128963</td>\n",
       "      <td>0.128963</td>\n",
       "    </tr>\n",
       "    <tr>\n",
       "      <th>B</th>\n",
       "      <td>0.128963</td>\n",
       "      <td>0.000000</td>\n",
       "      <td>39.200955</td>\n",
       "      <td>0.206342</td>\n",
       "      <td>0.206342</td>\n",
       "      <td>0.206342</td>\n",
       "      <td>0.287792</td>\n",
       "    </tr>\n",
       "    <tr>\n",
       "      <th>C</th>\n",
       "      <td>0.128963</td>\n",
       "      <td>0.128963</td>\n",
       "      <td>0.000000</td>\n",
       "      <td>38.250955</td>\n",
       "      <td>0.128963</td>\n",
       "      <td>0.223963</td>\n",
       "      <td>0.283720</td>\n",
       "    </tr>\n",
       "    <tr>\n",
       "      <th>D</th>\n",
       "      <td>0.128963</td>\n",
       "      <td>0.128963</td>\n",
       "      <td>0.902744</td>\n",
       "      <td>0.000000</td>\n",
       "      <td>38.467900</td>\n",
       "      <td>0.283720</td>\n",
       "      <td>0.128963</td>\n",
       "    </tr>\n",
       "    <tr>\n",
       "      <th>E</th>\n",
       "      <td>0.128963</td>\n",
       "      <td>0.128963</td>\n",
       "      <td>0.128963</td>\n",
       "      <td>0.128963</td>\n",
       "      <td>0.000000</td>\n",
       "      <td>0.128963</td>\n",
       "      <td>0.128963</td>\n",
       "    </tr>\n",
       "    <tr>\n",
       "      <th>F</th>\n",
       "      <td>0.128963</td>\n",
       "      <td>0.128963</td>\n",
       "      <td>0.128963</td>\n",
       "      <td>0.223963</td>\n",
       "      <td>0.361098</td>\n",
       "      <td>0.000000</td>\n",
       "      <td>0.128963</td>\n",
       "    </tr>\n",
       "    <tr>\n",
       "      <th>G</th>\n",
       "      <td>0.128963</td>\n",
       "      <td>0.128963</td>\n",
       "      <td>0.206342</td>\n",
       "      <td>0.210414</td>\n",
       "      <td>0.283720</td>\n",
       "      <td>0.128963</td>\n",
       "      <td>0.000000</td>\n",
       "    </tr>\n",
       "  </tbody>\n",
       "</table>\n",
       "</div>"
      ],
      "text/plain": [
       "          A          B          C          D          E         F         G\n",
       "A  0.000000  43.110585   0.128963   0.128963   0.128963  0.128963  0.128963\n",
       "B  0.128963   0.000000  39.200955   0.206342   0.206342  0.206342  0.287792\n",
       "C  0.128963   0.128963   0.000000  38.250955   0.128963  0.223963  0.283720\n",
       "D  0.128963   0.128963   0.902744   0.000000  38.467900  0.283720  0.128963\n",
       "E  0.128963   0.128963   0.128963   0.128963   0.000000  0.128963  0.128963\n",
       "F  0.128963   0.128963   0.128963   0.223963   0.361098  0.000000  0.128963\n",
       "G  0.128963   0.128963   0.206342   0.210414   0.283720  0.128963  0.000000"
      ]
     },
     "execution_count": 14,
     "metadata": {},
     "output_type": "execute_result"
    }
   ],
   "source": [
    "swarm.phe\n",
    "#'A', 'B','C','D', 'E'"
   ]
  },
  {
   "cell_type": "code",
   "execution_count": 15,
   "metadata": {},
   "outputs": [
    {
     "data": {
      "image/png": "[encoded data removed]",
      "text/plain": [
       "<matplotlib.figure.Figure at 0x126336e48>"
      ]
     },
     "metadata": {},
     "output_type": "display_data"
    }
   ],
   "source": [
    "sns.heatmap(swarm.phe)\n",
    "plt.show()"
   ]
  },
  {
   "cell_type": "markdown",
   "metadata": {},
   "source": [
    "# Any graph"
   ]
  },
  {
   "cell_type": "code",
   "execution_count": 16,
   "metadata": {},
   "outputs": [
    {
     "name": "stdout",
     "output_type": "stream",
     "text": [
      "cities:\n",
      " ['A0', 'A1', 'A2', 'A3', 'A4', 'A5', 'A6', 'A7', 'A8', 'A9', 'A10', 'A11', 'A12', 'A13', 'A14', 'A15', 'A16', 'A17', 'A18', 'A19', 'A20', 'A21', 'A22', 'A23', 'A24', 'A25', 'A26', 'A27', 'A28', 'A29', 'A30', 'A31', 'A32', 'A33', 'A34', 'A35', 'A36', 'A37', 'A38', 'A39', 'A40', 'A41', 'A42', 'A43', 'A44', 'A45', 'A46', 'A47', 'A48', 'A49', 'A50', 'A51', 'A52', 'A53', 'A54', 'A55', 'A56', 'A57', 'A58', 'A59', 'A60', 'A61', 'A62', 'A63', 'A64', 'A65', 'A66', 'A67', 'A68', 'A69', 'A70', 'A71', 'A72', 'A73', 'A74', 'A75', 'A76', 'A77', 'A78', 'A79', 'A80', 'A81', 'A82', 'A83', 'A84', 'A85', 'A86', 'A87', 'A88', 'A89', 'A90', 'A91', 'A92', 'A93', 'A94', 'A95', 'A96', 'A97', 'A98', 'A99']\n",
      "\n",
      "true_path:\n",
      " ['A47', 'A86', 'A36', 'A64', 'A30', 'A66', 'A9', 'A27', 'A35', 'A16']\n",
      "\n",
      "start, end:\n",
      " A47 A16\n"
     ]
    }
   ],
   "source": [
    "N = 100\n",
    "path_len = 10\n",
    "cities = ['A'+str(i) for i in range(N)]\n",
    "true_path = ['A'+str(i) for i in np.random.choice(N, size=path_len,replace=False)]\n",
    "\n",
    "start, end = true_path[0], true_path[-1]\n",
    "\n",
    "print(\"cities:\\n\", cities)\n",
    "print(\"\\ntrue_path:\\n\", true_path)\n",
    "print(\"\\nstart, end:\\n\", start, end )"
   ]
  },
  {
   "cell_type": "code",
   "execution_count": 17,
   "metadata": {
    "collapsed": true
   },
   "outputs": [],
   "source": [
    "swarm = antcolony(cities = cities, true_path =true_path)\n",
    "swarm.run(K = 20, time = 40)"
   ]
  },
  {
   "cell_type": "code",
   "execution_count": 18,
   "metadata": {},
   "outputs": [
    {
     "data": {
      "image/png": "[encoded data removed]",
      "text/plain": [
       "<matplotlib.figure.Figure at 0x12854f5c0>"
      ]
     },
     "metadata": {},
     "output_type": "display_data"
    }
   ],
   "source": [
    "plt.plot(swarm.true_path_ratio)\n",
    "plt.show()"
   ]
  },
  {
   "cell_type": "code",
   "execution_count": 19,
   "metadata": {},
   "outputs": [
    {
     "data": {
      "image/png": "[encoded data removed]",
      "text/plain": [
       "<matplotlib.figure.Figure at 0x12634f710>"
      ]
     },
     "metadata": {},
     "output_type": "display_data"
    }
   ],
   "source": [
    "sns.heatmap(swarm.phe)\n",
    "plt.show()"
   ]
  },
  {
   "cell_type": "code",
   "execution_count": 20,
   "metadata": {},
   "outputs": [
    {
     "data": {
      "text/plain": [
       "['A47', 'A86', 'A36', 'A64', 'A30', 'A66', 'A9', 'A27', 'A35', 'A16']"
      ]
     },
     "execution_count": 20,
     "metadata": {},
     "output_type": "execute_result"
    }
   ],
   "source": [
    "true_path"
   ]
  },
  {
   "cell_type": "code",
   "execution_count": 21,
   "metadata": {
    "collapsed": true
   },
   "outputs": [],
   "source": [
    "i, j = np.where(swarm.phe > 50)"
   ]
  },
  {
   "cell_type": "code",
   "execution_count": 22,
   "metadata": {},
   "outputs": [
    {
     "data": {
      "text/plain": [
       "array([ 9, 27, 30, 35, 36, 47, 64, 66, 86])"
      ]
     },
     "execution_count": 22,
     "metadata": {},
     "output_type": "execute_result"
    }
   ],
   "source": [
    "i"
   ]
  },
  {
   "cell_type": "code",
   "execution_count": 23,
   "metadata": {},
   "outputs": [
    {
     "data": {
      "text/plain": [
       "array([27, 35, 66, 16, 64, 86, 30,  9, 36])"
      ]
     },
     "execution_count": 23,
     "metadata": {},
     "output_type": "execute_result"
    }
   ],
   "source": [
    "j"
   ]
  },
  {
   "cell_type": "code",
   "execution_count": 24,
   "metadata": {},
   "outputs": [
    {
     "data": {
      "text/plain": [
       "[['A47', 'A86', 'A36', 'A64', 'A30', 'A66', 'A9', 'A27', 'A35', 'A16'],\n",
       " ['A47', 'A86', 'A36', 'A64', 'A30', 'A66', 'A9', 'A27', 'A35', 'A16'],\n",
       " ['A47', 'A86', 'A36', 'A64', 'A30', 'A66', 'A9', 'A27', 'A35', 'A16'],\n",
       " ['A47', 'A86', 'A36', 'A64', 'A30', 'A66', 'A9', 'A27', 'A35', 'A16'],\n",
       " ['A47', 'A86', 'A36', 'A64', 'A30', 'A66', 'A9', 'A27', 'A35', 'A16'],\n",
       " ['A47', 'A86', 'A36', 'A64', 'A30', 'A66', 'A9', 'A27', 'A35', 'A16'],\n",
       " ['A47', 'A86', 'A36', 'A64', 'A30', 'A66', 'A9', 'A27', 'A35', 'A16'],\n",
       " ['A47', 'A86', 'A36', 'A64', 'A30', 'A66', 'A9', 'A27', 'A35', 'A16'],\n",
       " ['A47', 'A86', 'A36', 'A64', 'A30', 'A66', 'A9', 'A27', 'A35', 'A16'],\n",
       " ['A47', 'A86', 'A36', 'A64', 'A30', 'A66', 'A9', 'A27', 'A35', 'A16'],\n",
       " ['A47', 'A86', 'A36', 'A64', 'A30', 'A66', 'A9', 'A27', 'A35', 'A16'],\n",
       " ['A47', 'A86', 'A36', 'A64', 'A30', 'A66', 'A9', 'A27', 'A35', 'A16'],\n",
       " ['A47', 'A86', 'A36', 'A64', 'A30', 'A66', 'A9', 'A27', 'A35', 'A16'],\n",
       " ['A47', 'A86', 'A36', 'A64', 'A30', 'A66', 'A9', 'A27', 'A35', 'A16'],\n",
       " ['A47', 'A86', 'A36', 'A64', 'A30', 'A66', 'A9', 'A27', 'A35', 'A16'],\n",
       " ['A47', 'A86', 'A36', 'A64', 'A30', 'A66', 'A9', 'A27', 'A35', 'A16'],\n",
       " ['A47', 'A86', 'A36', 'A64', 'A30', 'A66', 'A9', 'A27', 'A35', 'A16'],\n",
       " ['A47', 'A86', 'A36', 'A64', 'A30', 'A66', 'A9', 'A27', 'A35', 'A16'],\n",
       " ['A47', 'A86', 'A36', 'A64', 'A30', 'A66', 'A9', 'A27', 'A35', 'A16'],\n",
       " ['A47', 'A86', 'A36', 'A64', 'A30', 'A66', 'A9', 'A27', 'A35', 'A16']]"
      ]
     },
     "execution_count": 24,
     "metadata": {},
     "output_type": "execute_result"
    }
   ],
   "source": [
    "[a.route for a in swarm.colony]"
   ]
  },
  {
   "cell_type": "markdown",
   "metadata": {},
   "source": [
    "## Longer path"
   ]
  },
  {
   "cell_type": "code",
   "execution_count": 25,
   "metadata": {},
   "outputs": [
    {
     "name": "stdout",
     "output_type": "stream",
     "text": [
      "cities:\n",
      " ['A0', 'A1', 'A2', 'A3', 'A4', 'A5', 'A6', 'A7', 'A8', 'A9', 'A10', 'A11', 'A12', 'A13', 'A14', 'A15', 'A16', 'A17', 'A18', 'A19', 'A20', 'A21', 'A22', 'A23', 'A24', 'A25', 'A26', 'A27', 'A28', 'A29', 'A30', 'A31', 'A32', 'A33', 'A34', 'A35', 'A36', 'A37', 'A38', 'A39', 'A40', 'A41', 'A42', 'A43', 'A44', 'A45', 'A46', 'A47', 'A48', 'A49', 'A50', 'A51', 'A52', 'A53', 'A54', 'A55', 'A56', 'A57', 'A58', 'A59', 'A60', 'A61', 'A62', 'A63', 'A64', 'A65', 'A66', 'A67', 'A68', 'A69', 'A70', 'A71', 'A72', 'A73', 'A74', 'A75', 'A76', 'A77', 'A78', 'A79', 'A80', 'A81', 'A82', 'A83', 'A84', 'A85', 'A86', 'A87', 'A88', 'A89', 'A90', 'A91', 'A92', 'A93', 'A94', 'A95', 'A96', 'A97', 'A98', 'A99']\n",
      "\n",
      "true_path:\n",
      " ['A82', 'A18', 'A96', 'A66', 'A46', 'A30', 'A97', 'A45', 'A94', 'A29', 'A14', 'A47', 'A13', 'A56', 'A21', 'A64', 'A99', 'A68', 'A48', 'A2', 'A12', 'A74', 'A67', 'A55', 'A50', 'A78', 'A52', 'A95', 'A20', 'A75', 'A83', 'A65', 'A40', 'A77', 'A72', 'A70', 'A41', 'A35', 'A22', 'A36', 'A25', 'A63', 'A34', 'A57', 'A6', 'A60', 'A16', 'A31', 'A91', 'A53', 'A61', 'A89', 'A0', 'A43', 'A44', 'A81', 'A32', 'A24', 'A85', 'A79', 'A49', 'A23', 'A80', 'A76', 'A39', 'A69', 'A1', 'A26', 'A4', 'A88']\n",
      "\n",
      "start, end:\n",
      " A82 A88\n"
     ]
    }
   ],
   "source": [
    "N = 100\n",
    "path_len = 70\n",
    "cities = ['A'+str(i) for i in range(N)]\n",
    "true_path = ['A'+str(i) for i in np.random.choice(N, size=path_len,replace=False)]\n",
    "\n",
    "start, end = true_path[0], true_path[-1]\n",
    "\n",
    "print(\"cities:\\n\", cities)\n",
    "print(\"\\ntrue_path:\\n\", true_path)\n",
    "print(\"\\nstart, end:\\n\", start, end )"
   ]
  },
  {
   "cell_type": "code",
   "execution_count": 26,
   "metadata": {
    "collapsed": true
   },
   "outputs": [],
   "source": [
    "swarm = antcolony(cities = cities, true_path =true_path)\n",
    "swarm.run(K = 50, time = 40)"
   ]
  },
  {
   "cell_type": "code",
   "execution_count": 27,
   "metadata": {},
   "outputs": [
    {
     "data": {
      "image/png": "[encoded data removed]",
      "text/plain": [
       "<matplotlib.figure.Figure at 0x128556b38>"
      ]
     },
     "metadata": {},
     "output_type": "display_data"
    }
   ],
   "source": [
    "plt.plot(swarm.true_path_ratio)\n",
    "plt.show()"
   ]
  },
  {
   "cell_type": "code",
   "execution_count": 28,
   "metadata": {},
   "outputs": [
    {
     "data": {
      "image/png": "[encoded data removed]",
      "text/plain": [
       "<matplotlib.figure.Figure at 0x12843f5f8>"
      ]
     },
     "metadata": {},
     "output_type": "display_data"
    }
   ],
   "source": [
    "sns.heatmap(swarm.phe)\n",
    "plt.show()"
   ]
  }
 ],
 "metadata": {
  "kernelspec": {
   "display_name": "Python 3",
   "language": "python",
   "name": "python3"
  },
  "language_info": {
   "codemirror_mode": {
    "name": "ipython",
    "version": 3
   },
   "file_extension": ".py",
   "mimetype": "text/x-python",
   "name": "python",
   "nbconvert_exporter": "python",
   "pygments_lexer": "ipython3",
   "version": "3.6.1"
  }
 },
 "nbformat": 4,
 "nbformat_minor": 2
}
